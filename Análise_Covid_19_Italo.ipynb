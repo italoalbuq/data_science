{
  "nbformat": 4,
  "nbformat_minor": 0,
  "metadata": {
    "colab": {
      "name": "Análise_Covid_19-Italo.ipynb",
      "provenance": [],
      "collapsed_sections": []
    },
    "kernelspec": {
      "name": "python3",
      "display_name": "Python 3"
    }
  },
  "cells": [
    {
      "cell_type": "markdown",
      "metadata": {
        "id": "-eFQZydM9O9J",
        "colab_type": "text"
      },
      "source": [
        "#### **Italo Giullian Carvalho de Albuquerque**\n",
        "--[LINKEDIN](https://www.linkedin.com/in/italogiullian/)--\n",
        "\n",
        "--- "
      ]
    },
    {
      "cell_type": "markdown",
      "metadata": {
        "id": "kLI0gJtzDGuQ",
        "colab_type": "text"
      },
      "source": [
        "# Panorama do COVID-19 no Brasil\n",
        "\n",
        "Segundo o Ministério da Saúde Brasileiro, o coronavírus SARS-CoV-2, causa a COVID-19, que é uma doença que causa infecções respiratórias. A maioria das pessoas se infecta com os coronavírus comuns ao longo da vida, sendo as crianças pequenas mais propensas a se infectarem com o tipo mais comum do vírus.\n",
        "\n",
        "Os sintomas da COVID-19 podem variar de um simples resfriado até uma pneumonia severa. Sendo os sintomas mais comuns: tosse, febre, coriza, dor de garganta e dificuldade para respirar.\n",
        "\n",
        "A transmissão acontece de uma pessoa doente para outra ou por contato próximo por meio de toque do aperto de mão, gotículas de saliva, espirro, tosse, catarro, objetos ou superfícies contaminadas.\n",
        "\n",
        "<center><img alt=\"Colaboratory logo\" width=\"50%\" src=\"https://notisul.com.br/wp-content/uploads/2020/06/santa-catarina-ja-registrou-17-582-pacientes-com-coronavirus-2-959-continuam-em-acompanhamento.jpg\"></center>\n",
        "\n",
        "O diagnóstico da COVID-19 é realizado primeiramente pelo profissional de saúde que deve avaliar a presença de critérios clínicos:\n",
        "\n",
        "- Pessoa com quadro respiratório agudo, caracterizado por sensação febril ou febre, que pode ou não estar presente na hora da consulta, acompanhada de tosse, ou dor de garganta, ou coriza, ou dificuldade respiratória.\n",
        "- Pessoa com desconforto respiratório/dificuldade para respirar, ou pressão persistente no tórax, ou saturação de oxigênio menor do que 95% em ar ambiente, ou coloração azulada dos lábios ou rosto.\n",
        "\n",
        "As recomendações de prevenção à COVID-19 são as seguintes:\n",
        "- Lave com as mãos com água e sabão, ou então higienize com álcool em gel 70%.\n",
        "- Ao tossir ou espirrar, cubra nariz e boca com lenço ou com o braço, e não com as mãos.\n",
        "- Evite tocar olhos, nariz e boca com as mãos não lavadas.\n",
        "- Ao tocar, lave sempre as mãos.\n",
        "- Mantenha uma distância mínima de cerca de 2 metros de qualquer pessoa.\n",
        "- Evite abraços, beijos e apertos de mãos.\n",
        "- Higienize com frequência o celular\n",
        "- Não compartilhe objetos de uso pessoal.\n",
        "- Evite circulação desnecessária nas ruas.\n",
        "- Se estiver doente, evite contato físico com outras pessoas, principalmente idosos e doentes crônicos, e fique em casa até melhorar.\n",
        "- Utilize máscaras caseiras ou artesanais feitas de tecido em situações de saída de sua residência.\n"
      ]
    },
    {
      "cell_type": "markdown",
      "metadata": {
        "id": "0zxQHhIUDF_2",
        "colab_type": "text"
      },
      "source": [
        "## Obtenção dos Dados\n",
        "\n",
        "Os dados foram obtidos através do [Our World in Data](https://ourworldindata.org/), que tem como finalidade tornar o conhecimento sobre os grandes problemas acessível e compreensível.\n",
        "\n",
        "Pouco tempo atrás, houve polêmicas junto ao governo, de mudança de horários de divulgação oficial dos números segundo o Ministério da Saúde, conflitos com governadores e mídia, o que dificulta o real acesso aos dados oficiais. Porém, o consórcio de imprensa brasileira todos os dias continuam a divulgar segundo a soma de todas as Secretarias Estaduais de cada estado brasileiro.\n",
        "\n",
        "O *dataset* aqui utilizado, pode ser baixado diretamente neste [link](https://github.com/owid/covid-19-data/tree/master/public/data), no formato `csv`, que está atualizado até o dia 25/06/2020.\n",
        "\n",
        "\n",
        "### Dicionário de Variáveis\n",
        "\n",
        "O dicionário das variáveis serve como uma demostração da situação inicial dos dados, são as colunas compostas nesse *dataset*\n",
        "\n",
        "- iso code - código do país definido pelo ISO 3166-1 alpha-3\n",
        "- continent - continente da localização geográfica\n",
        "- location - localização geográfica (país)\n",
        "- date - data de observação\n",
        "- total_cases - total de casos confirmados de COVID-19\n",
        "- new_cases - novos casos confirmados de COVID-19\n",
        "- total_deaths - total de mortes atribuídas ao COVID-19\n",
        "- total_cases_per_million - total de casos confirmados de COVID-19 por 1.000.000 de pessoas\n",
        "- new_cases_per_million - novos casos confirmados de COVID-19 por 1.000.000 de pessoas\n",
        "- total_deaths_per_million total de mortes atribuídas ao COVID-19 por 1.000.000 de pessoas\n",
        "- new_deaths_per_million novas mortes atribuídas ao COVID-19 por 1.000.000 de pessoas\n",
        "- total_tests - total de testes para COVID-19\n",
        "- new_tests - novos testes para COVID-19\n",
        "- total_tests_per_thousand - total de testes para COVID-19 por 1.000 pessoas\n",
        "- new_tests_per_thousand - novos testes para COVID-19 por 1.000 pessoas\n",
        "- new_tests_smoothed - novos teste para COVID-19 (suavizado por 7 dias), isso são para países que não relatam dados de testes diariamente. Isso produz uma série de números diários calculados a partir da médias de 7 dias consecutivos.\n",
        "- new_tests_smoothed_per_thousand - novos testes para COVID-19 (7 dias suavizados) por 1.000 pessoas\n",
        "- tests_units - Unidades usadas pelo local (país) para relatar seus dados de testes\n",
        "- stringency_index - Índice de Estresse da Resposta do Governo: medida composta baseada em 9 indicadores de resposta, incluindo fechamento de escolas, fechamento de locais de trabalho e proibições de viagens, redimensionados para um valor de 0 a 100 (100 = resposta mais estrita)\n",
        "- population - população em 2020\n",
        "- population_density - Número de pessoas divididas por área terrestre, medida em quilômetros quadrados, no ano mais recente disponível\n",
        "- median_age - Idade média da população, projeção da ONU para 2020\n",
        "- aged_65_older - Proporção da população com 65 anos ou mais, ano mais recente disponível\n",
        "- aged_70_older - Porcentagem da população com 70 anos ou mais em 2015\n",
        "- gdp_per_capita - Produto interno bruto com paridade do poder de compra (dólares internacionais constantes de 2011), último ano disponível\n",
        "- extreme_poverty - Percentagem da população que vive em extrema pobreza, último ano disponível desde 2010\n",
        "- cvd_death_rate - Taxa de mortalidade por doenças cardiovasculares em 2017\n",
        "- diabetes_prevalence - Prevalência de diabetes (% da população entre 20 e 79 anos) em 2017\n",
        "- female_smokers - Porcentagem de mulheres que fumam, último ano disponível\n",
        "- male_smokers - Proporção de homens que fumam, último ano disponível\n",
        "- handwashing_facilities - Proporção da população com instalações básicas de lavagem das mãos nas instalações, último ano disponível\n",
        "- hospital_beds_per_thousand - Camas de hospital por 1.000 pessoas, último ano disponível desde 2010\n",
        "- life_expectancy - Expectativa de vida no nascimento em 2019"
      ]
    },
    {
      "cell_type": "code",
      "metadata": {
        "id": "lOtEJxe0DMEb",
        "colab_type": "code",
        "colab": {
          "base_uri": "https://localhost:8080/",
          "height": 71
        },
        "outputId": "5a5169c4-56a0-42da-a099-ee949ccc7a97"
      },
      "source": [
        "#Importar as bibliotecas necessárias\n",
        "import pandas as pd\n",
        "import matplotlib.pyplot as plt\n",
        "import seaborn as sns\n",
        "sns.set_style()\n",
        "\n",
        "#Importando o dataset COVID-19 para um DataFrame\n",
        "df_covid = pd.read_csv('https://raw.githubusercontent.com/owid/covid-19-data/master/public/data/owid-covid-data.csv')"
      ],
      "execution_count": 2,
      "outputs": [
        {
          "output_type": "stream",
          "text": [
            "/usr/local/lib/python3.6/dist-packages/statsmodels/tools/_testing.py:19: FutureWarning: pandas.util.testing is deprecated. Use the functions in the public API at pandas.testing instead.\n",
            "  import pandas.util.testing as tm\n"
          ],
          "name": "stderr"
        }
      ]
    },
    {
      "cell_type": "markdown",
      "metadata": {
        "id": "qb5By2nIMS6m",
        "colab_type": "text"
      },
      "source": [
        "## Análise Exploratória dos Dados\n",
        "\n",
        "Primeiro seá feito uma Análise Exploratória geral do COVID-19 ao redor do mundo, e posteriormente irei aprofundar no vírus no Brasil.\n",
        "\n",
        "Será feito análises das entradas, do tamanho, dos tipos das variáveis, formatos, porcentagem de valores, etc."
      ]
    },
    {
      "cell_type": "code",
      "metadata": {
        "id": "PUAAkw98dTZ4",
        "colab_type": "code",
        "colab": {
          "base_uri": "https://localhost:8080/",
          "height": 309
        },
        "outputId": "f302592f-7ecd-4614-fe74-69152f262b29"
      },
      "source": [
        "#Visualisando as 5 primeiras entradas do DataFrame\n",
        "df_covid.head()"
      ],
      "execution_count": null,
      "outputs": [
        {
          "output_type": "execute_result",
          "data": {
            "text/html": [
              "<div>\n",
              "<style scoped>\n",
              "    .dataframe tbody tr th:only-of-type {\n",
              "        vertical-align: middle;\n",
              "    }\n",
              "\n",
              "    .dataframe tbody tr th {\n",
              "        vertical-align: top;\n",
              "    }\n",
              "\n",
              "    .dataframe thead th {\n",
              "        text-align: right;\n",
              "    }\n",
              "</style>\n",
              "<table border=\"1\" class=\"dataframe\">\n",
              "  <thead>\n",
              "    <tr style=\"text-align: right;\">\n",
              "      <th></th>\n",
              "      <th>iso_code</th>\n",
              "      <th>continent</th>\n",
              "      <th>location</th>\n",
              "      <th>date</th>\n",
              "      <th>total_cases</th>\n",
              "      <th>new_cases</th>\n",
              "      <th>total_deaths</th>\n",
              "      <th>new_deaths</th>\n",
              "      <th>total_cases_per_million</th>\n",
              "      <th>new_cases_per_million</th>\n",
              "      <th>total_deaths_per_million</th>\n",
              "      <th>new_deaths_per_million</th>\n",
              "      <th>total_tests</th>\n",
              "      <th>new_tests</th>\n",
              "      <th>total_tests_per_thousand</th>\n",
              "      <th>new_tests_per_thousand</th>\n",
              "      <th>new_tests_smoothed</th>\n",
              "      <th>new_tests_smoothed_per_thousand</th>\n",
              "      <th>tests_units</th>\n",
              "      <th>stringency_index</th>\n",
              "      <th>population</th>\n",
              "      <th>population_density</th>\n",
              "      <th>median_age</th>\n",
              "      <th>aged_65_older</th>\n",
              "      <th>aged_70_older</th>\n",
              "      <th>gdp_per_capita</th>\n",
              "      <th>extreme_poverty</th>\n",
              "      <th>cvd_death_rate</th>\n",
              "      <th>diabetes_prevalence</th>\n",
              "      <th>female_smokers</th>\n",
              "      <th>male_smokers</th>\n",
              "      <th>handwashing_facilities</th>\n",
              "      <th>hospital_beds_per_thousand</th>\n",
              "      <th>life_expectancy</th>\n",
              "    </tr>\n",
              "  </thead>\n",
              "  <tbody>\n",
              "    <tr>\n",
              "      <th>0</th>\n",
              "      <td>AFG</td>\n",
              "      <td>Asia</td>\n",
              "      <td>Afghanistan</td>\n",
              "      <td>2019-12-31</td>\n",
              "      <td>0.0</td>\n",
              "      <td>0.0</td>\n",
              "      <td>0.0</td>\n",
              "      <td>0.0</td>\n",
              "      <td>0.0</td>\n",
              "      <td>0.0</td>\n",
              "      <td>0.0</td>\n",
              "      <td>0.0</td>\n",
              "      <td>NaN</td>\n",
              "      <td>NaN</td>\n",
              "      <td>NaN</td>\n",
              "      <td>NaN</td>\n",
              "      <td>NaN</td>\n",
              "      <td>NaN</td>\n",
              "      <td>NaN</td>\n",
              "      <td>NaN</td>\n",
              "      <td>38928341.0</td>\n",
              "      <td>54.422</td>\n",
              "      <td>18.6</td>\n",
              "      <td>2.581</td>\n",
              "      <td>1.337</td>\n",
              "      <td>1803.987</td>\n",
              "      <td>NaN</td>\n",
              "      <td>597.029</td>\n",
              "      <td>9.59</td>\n",
              "      <td>NaN</td>\n",
              "      <td>NaN</td>\n",
              "      <td>37.746</td>\n",
              "      <td>0.5</td>\n",
              "      <td>64.83</td>\n",
              "    </tr>\n",
              "    <tr>\n",
              "      <th>1</th>\n",
              "      <td>AFG</td>\n",
              "      <td>Asia</td>\n",
              "      <td>Afghanistan</td>\n",
              "      <td>2020-01-01</td>\n",
              "      <td>0.0</td>\n",
              "      <td>0.0</td>\n",
              "      <td>0.0</td>\n",
              "      <td>0.0</td>\n",
              "      <td>0.0</td>\n",
              "      <td>0.0</td>\n",
              "      <td>0.0</td>\n",
              "      <td>0.0</td>\n",
              "      <td>NaN</td>\n",
              "      <td>NaN</td>\n",
              "      <td>NaN</td>\n",
              "      <td>NaN</td>\n",
              "      <td>NaN</td>\n",
              "      <td>NaN</td>\n",
              "      <td>NaN</td>\n",
              "      <td>0.0</td>\n",
              "      <td>38928341.0</td>\n",
              "      <td>54.422</td>\n",
              "      <td>18.6</td>\n",
              "      <td>2.581</td>\n",
              "      <td>1.337</td>\n",
              "      <td>1803.987</td>\n",
              "      <td>NaN</td>\n",
              "      <td>597.029</td>\n",
              "      <td>9.59</td>\n",
              "      <td>NaN</td>\n",
              "      <td>NaN</td>\n",
              "      <td>37.746</td>\n",
              "      <td>0.5</td>\n",
              "      <td>64.83</td>\n",
              "    </tr>\n",
              "    <tr>\n",
              "      <th>2</th>\n",
              "      <td>AFG</td>\n",
              "      <td>Asia</td>\n",
              "      <td>Afghanistan</td>\n",
              "      <td>2020-01-02</td>\n",
              "      <td>0.0</td>\n",
              "      <td>0.0</td>\n",
              "      <td>0.0</td>\n",
              "      <td>0.0</td>\n",
              "      <td>0.0</td>\n",
              "      <td>0.0</td>\n",
              "      <td>0.0</td>\n",
              "      <td>0.0</td>\n",
              "      <td>NaN</td>\n",
              "      <td>NaN</td>\n",
              "      <td>NaN</td>\n",
              "      <td>NaN</td>\n",
              "      <td>NaN</td>\n",
              "      <td>NaN</td>\n",
              "      <td>NaN</td>\n",
              "      <td>0.0</td>\n",
              "      <td>38928341.0</td>\n",
              "      <td>54.422</td>\n",
              "      <td>18.6</td>\n",
              "      <td>2.581</td>\n",
              "      <td>1.337</td>\n",
              "      <td>1803.987</td>\n",
              "      <td>NaN</td>\n",
              "      <td>597.029</td>\n",
              "      <td>9.59</td>\n",
              "      <td>NaN</td>\n",
              "      <td>NaN</td>\n",
              "      <td>37.746</td>\n",
              "      <td>0.5</td>\n",
              "      <td>64.83</td>\n",
              "    </tr>\n",
              "    <tr>\n",
              "      <th>3</th>\n",
              "      <td>AFG</td>\n",
              "      <td>Asia</td>\n",
              "      <td>Afghanistan</td>\n",
              "      <td>2020-01-03</td>\n",
              "      <td>0.0</td>\n",
              "      <td>0.0</td>\n",
              "      <td>0.0</td>\n",
              "      <td>0.0</td>\n",
              "      <td>0.0</td>\n",
              "      <td>0.0</td>\n",
              "      <td>0.0</td>\n",
              "      <td>0.0</td>\n",
              "      <td>NaN</td>\n",
              "      <td>NaN</td>\n",
              "      <td>NaN</td>\n",
              "      <td>NaN</td>\n",
              "      <td>NaN</td>\n",
              "      <td>NaN</td>\n",
              "      <td>NaN</td>\n",
              "      <td>0.0</td>\n",
              "      <td>38928341.0</td>\n",
              "      <td>54.422</td>\n",
              "      <td>18.6</td>\n",
              "      <td>2.581</td>\n",
              "      <td>1.337</td>\n",
              "      <td>1803.987</td>\n",
              "      <td>NaN</td>\n",
              "      <td>597.029</td>\n",
              "      <td>9.59</td>\n",
              "      <td>NaN</td>\n",
              "      <td>NaN</td>\n",
              "      <td>37.746</td>\n",
              "      <td>0.5</td>\n",
              "      <td>64.83</td>\n",
              "    </tr>\n",
              "    <tr>\n",
              "      <th>4</th>\n",
              "      <td>AFG</td>\n",
              "      <td>Asia</td>\n",
              "      <td>Afghanistan</td>\n",
              "      <td>2020-01-04</td>\n",
              "      <td>0.0</td>\n",
              "      <td>0.0</td>\n",
              "      <td>0.0</td>\n",
              "      <td>0.0</td>\n",
              "      <td>0.0</td>\n",
              "      <td>0.0</td>\n",
              "      <td>0.0</td>\n",
              "      <td>0.0</td>\n",
              "      <td>NaN</td>\n",
              "      <td>NaN</td>\n",
              "      <td>NaN</td>\n",
              "      <td>NaN</td>\n",
              "      <td>NaN</td>\n",
              "      <td>NaN</td>\n",
              "      <td>NaN</td>\n",
              "      <td>0.0</td>\n",
              "      <td>38928341.0</td>\n",
              "      <td>54.422</td>\n",
              "      <td>18.6</td>\n",
              "      <td>2.581</td>\n",
              "      <td>1.337</td>\n",
              "      <td>1803.987</td>\n",
              "      <td>NaN</td>\n",
              "      <td>597.029</td>\n",
              "      <td>9.59</td>\n",
              "      <td>NaN</td>\n",
              "      <td>NaN</td>\n",
              "      <td>37.746</td>\n",
              "      <td>0.5</td>\n",
              "      <td>64.83</td>\n",
              "    </tr>\n",
              "  </tbody>\n",
              "</table>\n",
              "</div>"
            ],
            "text/plain": [
              "  iso_code continent  ... hospital_beds_per_thousand life_expectancy\n",
              "0      AFG      Asia  ...                        0.5           64.83\n",
              "1      AFG      Asia  ...                        0.5           64.83\n",
              "2      AFG      Asia  ...                        0.5           64.83\n",
              "3      AFG      Asia  ...                        0.5           64.83\n",
              "4      AFG      Asia  ...                        0.5           64.83\n",
              "\n",
              "[5 rows x 34 columns]"
            ]
          },
          "metadata": {
            "tags": []
          },
          "execution_count": 48
        }
      ]
    },
    {
      "cell_type": "code",
      "metadata": {
        "id": "_-SdYkCKlXnf",
        "colab_type": "code",
        "colab": {
          "base_uri": "https://localhost:8080/",
          "height": 51
        },
        "outputId": "ffe5e61a-d4b3-4c88-f206-7d8c88702d72"
      },
      "source": [
        "#Verificando as dimensões do DataFrame (Linha x Coluna)\n",
        "print('Linhas: ', df_covid.shape[0])\n",
        "print('Colunas: ', df_covid.shape[1])"
      ],
      "execution_count": null,
      "outputs": [
        {
          "output_type": "stream",
          "text": [
            "Linhas:  26119\n",
            "Colunas:  34\n"
          ],
          "name": "stdout"
        }
      ]
    },
    {
      "cell_type": "code",
      "metadata": {
        "id": "gO1fv3D1PS4k",
        "colab_type": "code",
        "colab": {
          "base_uri": "https://localhost:8080/",
          "height": 221
        },
        "outputId": "919eb19a-0d08-4f82-f90d-05972624f5c1"
      },
      "source": [
        "#Extraindo o nome das colunas do DataFrame\n",
        "df_covid.columns"
      ],
      "execution_count": null,
      "outputs": [
        {
          "output_type": "execute_result",
          "data": {
            "text/plain": [
              "Index(['iso_code', 'continent', 'location', 'date', 'total_cases', 'new_cases',\n",
              "       'total_deaths', 'new_deaths', 'total_cases_per_million',\n",
              "       'new_cases_per_million', 'total_deaths_per_million',\n",
              "       'new_deaths_per_million', 'total_tests', 'new_tests',\n",
              "       'total_tests_per_thousand', 'new_tests_per_thousand',\n",
              "       'new_tests_smoothed', 'new_tests_smoothed_per_thousand', 'tests_units',\n",
              "       'stringency_index', 'population', 'population_density', 'median_age',\n",
              "       'aged_65_older', 'aged_70_older', 'gdp_per_capita', 'extreme_poverty',\n",
              "       'cvd_death_rate', 'diabetes_prevalence', 'female_smokers',\n",
              "       'male_smokers', 'handwashing_facilities', 'hospital_beds_per_thousand',\n",
              "       'life_expectancy'],\n",
              "      dtype='object')"
            ]
          },
          "metadata": {
            "tags": []
          },
          "execution_count": 50
        }
      ]
    },
    {
      "cell_type": "code",
      "metadata": {
        "id": "ovR7k6DimEvF",
        "colab_type": "code",
        "colab": {
          "base_uri": "https://localhost:8080/",
          "height": 612
        },
        "outputId": "db679e20-0245-4204-9f1b-c4619d6c0fdb"
      },
      "source": [
        "#Verificando os tipos das colunas do DataFrame\n",
        "df_covid.dtypes"
      ],
      "execution_count": null,
      "outputs": [
        {
          "output_type": "execute_result",
          "data": {
            "text/plain": [
              "iso_code                            object\n",
              "continent                           object\n",
              "location                            object\n",
              "date                                object\n",
              "total_cases                        float64\n",
              "new_cases                          float64\n",
              "total_deaths                       float64\n",
              "new_deaths                         float64\n",
              "total_cases_per_million            float64\n",
              "new_cases_per_million              float64\n",
              "total_deaths_per_million           float64\n",
              "new_deaths_per_million             float64\n",
              "total_tests                        float64\n",
              "new_tests                          float64\n",
              "total_tests_per_thousand           float64\n",
              "new_tests_per_thousand             float64\n",
              "new_tests_smoothed                 float64\n",
              "new_tests_smoothed_per_thousand    float64\n",
              "tests_units                         object\n",
              "stringency_index                   float64\n",
              "population                         float64\n",
              "population_density                 float64\n",
              "median_age                         float64\n",
              "aged_65_older                      float64\n",
              "aged_70_older                      float64\n",
              "gdp_per_capita                     float64\n",
              "extreme_poverty                    float64\n",
              "cvd_death_rate                     float64\n",
              "diabetes_prevalence                float64\n",
              "female_smokers                     float64\n",
              "male_smokers                       float64\n",
              "handwashing_facilities             float64\n",
              "hospital_beds_per_thousand         float64\n",
              "life_expectancy                    float64\n",
              "dtype: object"
            ]
          },
          "metadata": {
            "tags": []
          },
          "execution_count": 51
        }
      ]
    },
    {
      "cell_type": "code",
      "metadata": {
        "id": "cwyxWIY3mTUe",
        "colab_type": "code",
        "colab": {
          "base_uri": "https://localhost:8080/",
          "height": 612
        },
        "outputId": "9b6f5556-d664-4fb3-9fff-8985e33a4011"
      },
      "source": [
        "#Porcentagem faltantes das colunas DataFrame\n",
        "print((df_covid.isnull().sum() / df_covid.shape[0])*100)"
      ],
      "execution_count": null,
      "outputs": [
        {
          "output_type": "stream",
          "text": [
            "iso_code                            0.245032\n",
            "continent                           0.926529\n",
            "location                            0.000000\n",
            "date                                0.000000\n",
            "total_cases                         0.823156\n",
            "new_cases                           0.823156\n",
            "total_deaths                        0.823156\n",
            "new_deaths                          0.823156\n",
            "total_cases_per_million             1.068188\n",
            "new_cases_per_million               1.068188\n",
            "total_deaths_per_million            1.068188\n",
            "new_deaths_per_million              1.068188\n",
            "total_tests                        71.312072\n",
            "new_tests                          73.884911\n",
            "total_tests_per_thousand           71.312072\n",
            "new_tests_per_thousand             73.884911\n",
            "new_tests_smoothed                 68.995750\n",
            "new_tests_smoothed_per_thousand    68.995750\n",
            "tests_units                        66.621999\n",
            "stringency_index                   19.334584\n",
            "population                          0.245032\n",
            "population_density                  4.334010\n",
            "median_age                          9.613691\n",
            "aged_65_older                      10.888625\n",
            "aged_70_older                      10.076955\n",
            "gdp_per_capita                     10.628278\n",
            "extreme_poverty                    40.269536\n",
            "cvd_death_rate                      9.498832\n",
            "diabetes_prevalence                 6.577587\n",
            "female_smokers                     27.397680\n",
            "male_smokers                       28.232321\n",
            "handwashing_facilities             59.316972\n",
            "hospital_beds_per_thousand         17.213523\n",
            "life_expectancy                     1.385964\n",
            "dtype: float64\n"
          ],
          "name": "stdout"
        }
      ]
    },
    {
      "cell_type": "code",
      "metadata": {
        "id": "WnWmJfIEnEJW",
        "colab_type": "code",
        "colab": {}
      },
      "source": [
        "#Converter a coluna 'date' de objeto para datetime\n",
        "df_covid.date = pd.to_datetime(df_covid.date)"
      ],
      "execution_count": null,
      "outputs": []
    },
    {
      "cell_type": "code",
      "metadata": {
        "id": "BZIST_pBndk3",
        "colab_type": "code",
        "colab": {
          "base_uri": "https://localhost:8080/",
          "height": 34
        },
        "outputId": "c6aa521d-4891-406c-8058-2d6422d56b61"
      },
      "source": [
        "#Verificando o tipo da coluna 'date' após conversão\n",
        "for coluna, tipo in df_covid.dtypes.iteritems():\n",
        "  if coluna == 'date':\n",
        "    print(tipo)\n",
        "    break"
      ],
      "execution_count": null,
      "outputs": [
        {
          "output_type": "stream",
          "text": [
            "datetime64[ns]\n"
          ],
          "name": "stdout"
        }
      ]
    },
    {
      "cell_type": "code",
      "metadata": {
        "id": "7NmivO19pCXE",
        "colab_type": "code",
        "colab": {
          "base_uri": "https://localhost:8080/",
          "height": 419
        },
        "outputId": "41f0ffb3-6a28-46c4-84ad-e749dfbd4325"
      },
      "source": [
        "#Verificar quais países que têm mais casos e mortes a partir da data atual\n",
        "df_covid.loc[df_covid.date == '2020-06-25', ['location', 'total_cases']].sort_values(by='total_cases', ascending=False)"
      ],
      "execution_count": null,
      "outputs": [
        {
          "output_type": "execute_result",
          "data": {
            "text/html": [
              "<div>\n",
              "<style scoped>\n",
              "    .dataframe tbody tr th:only-of-type {\n",
              "        vertical-align: middle;\n",
              "    }\n",
              "\n",
              "    .dataframe tbody tr th {\n",
              "        vertical-align: top;\n",
              "    }\n",
              "\n",
              "    .dataframe thead th {\n",
              "        text-align: right;\n",
              "    }\n",
              "</style>\n",
              "<table border=\"1\" class=\"dataframe\">\n",
              "  <thead>\n",
              "    <tr style=\"text-align: right;\">\n",
              "      <th></th>\n",
              "      <th>location</th>\n",
              "      <th>total_cases</th>\n",
              "    </tr>\n",
              "  </thead>\n",
              "  <tbody>\n",
              "    <tr>\n",
              "      <th>26054</th>\n",
              "      <td>World</td>\n",
              "      <td>9400295.0</td>\n",
              "    </tr>\n",
              "    <tr>\n",
              "      <th>24861</th>\n",
              "      <td>United States</td>\n",
              "      <td>2381361.0</td>\n",
              "    </tr>\n",
              "    <tr>\n",
              "      <th>3544</th>\n",
              "      <td>Brazil</td>\n",
              "      <td>1188631.0</td>\n",
              "    </tr>\n",
              "    <tr>\n",
              "      <th>19731</th>\n",
              "      <td>Russia</td>\n",
              "      <td>606881.0</td>\n",
              "    </tr>\n",
              "    <tr>\n",
              "      <th>11033</th>\n",
              "      <td>India</td>\n",
              "      <td>473105.0</td>\n",
              "    </tr>\n",
              "    <tr>\n",
              "      <th>...</th>\n",
              "      <td>...</td>\n",
              "      <td>...</td>\n",
              "    </tr>\n",
              "    <tr>\n",
              "      <th>16134</th>\n",
              "      <td>Montserrat</td>\n",
              "      <td>11.0</td>\n",
              "    </tr>\n",
              "    <tr>\n",
              "      <th>18484</th>\n",
              "      <td>Papua New Guinea</td>\n",
              "      <td>10.0</td>\n",
              "    </tr>\n",
              "    <tr>\n",
              "      <th>3635</th>\n",
              "      <td>British Virgin Islands</td>\n",
              "      <td>8.0</td>\n",
              "    </tr>\n",
              "    <tr>\n",
              "      <th>3175</th>\n",
              "      <td>Bonaire Sint Eustatius and Saba</td>\n",
              "      <td>7.0</td>\n",
              "    </tr>\n",
              "    <tr>\n",
              "      <th>740</th>\n",
              "      <td>Anguilla</td>\n",
              "      <td>3.0</td>\n",
              "    </tr>\n",
              "  </tbody>\n",
              "</table>\n",
              "<p>209 rows × 2 columns</p>\n",
              "</div>"
            ],
            "text/plain": [
              "                              location  total_cases\n",
              "26054                            World    9400295.0\n",
              "24861                    United States    2381361.0\n",
              "3544                            Brazil    1188631.0\n",
              "19731                           Russia     606881.0\n",
              "11033                            India     473105.0\n",
              "...                                ...          ...\n",
              "16134                       Montserrat         11.0\n",
              "18484                 Papua New Guinea         10.0\n",
              "3635            British Virgin Islands          8.0\n",
              "3175   Bonaire Sint Eustatius and Saba          7.0\n",
              "740                           Anguilla          3.0\n",
              "\n",
              "[209 rows x 2 columns]"
            ]
          },
          "metadata": {
            "tags": []
          },
          "execution_count": 56
        }
      ]
    },
    {
      "cell_type": "code",
      "metadata": {
        "id": "ukJ8bu-OqgNc",
        "colab_type": "code",
        "colab": {
          "base_uri": "https://localhost:8080/",
          "height": 419
        },
        "outputId": "d235d504-2cba-4e24-d445-950fd9ef6728"
      },
      "source": [
        "#Verificar quais países que têm mais mortes, com base em hoje: 25/06/2020.\n",
        "df_covid.loc[df_covid.date == '2020-06-25', ['location', 'total_deaths']].sort_values(by='total_deaths', ascending=False)"
      ],
      "execution_count": null,
      "outputs": [
        {
          "output_type": "execute_result",
          "data": {
            "text/html": [
              "<div>\n",
              "<style scoped>\n",
              "    .dataframe tbody tr th:only-of-type {\n",
              "        vertical-align: middle;\n",
              "    }\n",
              "\n",
              "    .dataframe tbody tr th {\n",
              "        vertical-align: top;\n",
              "    }\n",
              "\n",
              "    .dataframe thead th {\n",
              "        text-align: right;\n",
              "    }\n",
              "</style>\n",
              "<table border=\"1\" class=\"dataframe\">\n",
              "  <thead>\n",
              "    <tr style=\"text-align: right;\">\n",
              "      <th></th>\n",
              "      <th>location</th>\n",
              "      <th>total_deaths</th>\n",
              "    </tr>\n",
              "  </thead>\n",
              "  <tbody>\n",
              "    <tr>\n",
              "      <th>26054</th>\n",
              "      <td>World</td>\n",
              "      <td>482468.0</td>\n",
              "    </tr>\n",
              "    <tr>\n",
              "      <th>24861</th>\n",
              "      <td>United States</td>\n",
              "      <td>121979.0</td>\n",
              "    </tr>\n",
              "    <tr>\n",
              "      <th>3544</th>\n",
              "      <td>Brazil</td>\n",
              "      <td>53830.0</td>\n",
              "    </tr>\n",
              "    <tr>\n",
              "      <th>24683</th>\n",
              "      <td>United Kingdom</td>\n",
              "      <td>43081.0</td>\n",
              "    </tr>\n",
              "    <tr>\n",
              "      <th>12188</th>\n",
              "      <td>Italy</td>\n",
              "      <td>34644.0</td>\n",
              "    </tr>\n",
              "    <tr>\n",
              "      <th>...</th>\n",
              "      <td>...</td>\n",
              "      <td>...</td>\n",
              "    </tr>\n",
              "    <tr>\n",
              "      <th>7613</th>\n",
              "      <td>Eritrea</td>\n",
              "      <td>0.0</td>\n",
              "    </tr>\n",
              "    <tr>\n",
              "      <th>2984</th>\n",
              "      <td>Bhutan</td>\n",
              "      <td>0.0</td>\n",
              "    </tr>\n",
              "    <tr>\n",
              "      <th>20123</th>\n",
              "      <td>Saint Vincent and the Grenadines</td>\n",
              "      <td>0.0</td>\n",
              "    </tr>\n",
              "    <tr>\n",
              "      <th>23611</th>\n",
              "      <td>Timor</td>\n",
              "      <td>0.0</td>\n",
              "    </tr>\n",
              "    <tr>\n",
              "      <th>9388</th>\n",
              "      <td>Gibraltar</td>\n",
              "      <td>0.0</td>\n",
              "    </tr>\n",
              "  </tbody>\n",
              "</table>\n",
              "<p>209 rows × 2 columns</p>\n",
              "</div>"
            ],
            "text/plain": [
              "                               location  total_deaths\n",
              "26054                             World      482468.0\n",
              "24861                     United States      121979.0\n",
              "3544                             Brazil       53830.0\n",
              "24683                    United Kingdom       43081.0\n",
              "12188                             Italy       34644.0\n",
              "...                                 ...           ...\n",
              "7613                            Eritrea           0.0\n",
              "2984                             Bhutan           0.0\n",
              "20123  Saint Vincent and the Grenadines           0.0\n",
              "23611                             Timor           0.0\n",
              "9388                          Gibraltar           0.0\n",
              "\n",
              "[209 rows x 2 columns]"
            ]
          },
          "metadata": {
            "tags": []
          },
          "execution_count": 57
        }
      ]
    },
    {
      "cell_type": "code",
      "metadata": {
        "colab_type": "code",
        "id": "IdT7my972OgJ",
        "colab": {
          "base_uri": "https://localhost:8080/",
          "height": 441
        },
        "outputId": "67f8c5dc-92e2-4969-d274-4eda8f105c6d"
      },
      "source": [
        "#Gráfico de barras para os 5 países que mais apresenta casos.\n",
        "df_aux = df_covid.loc[df_covid.date == '2020-06-19', ['location', 'total_cases']].sort_values(by='total_cases', ascending=False)[1:6]\n",
        "fig, ax = plt.subplots(figsize=(14,6))\n",
        "\n",
        "sns.barplot(df_aux.location, df_aux.total_cases, palette='rocket', ax=ax)\n",
        "\n",
        "ax.set_title('TOP 5 Países com mais casos de COVID-19')\n",
        "ax.set_xlabel('Países')\n",
        "ax.set_ylabel('Total de Casos')\n",
        "\n",
        "plt.tight_layout()"
      ],
      "execution_count": null,
      "outputs": [
        {
          "output_type": "display_data",
          "data": {
            "image/png": "[encoded data removed]",
            "text/plain": [
              "<Figure size 1008x432 with 1 Axes>"
            ]
          },
          "metadata": {
            "tags": [],
            "needs_background": "light"
          }
        }
      ]
    },
    {
      "cell_type": "markdown",
      "metadata": {
        "id": "dsW4xNs6pWaT",
        "colab_type": "text"
      },
      "source": [
        ""
      ]
    },
    {
      "cell_type": "code",
      "metadata": {
        "id": "yHWXNijJpKD4",
        "colab_type": "code",
        "colab": {
          "base_uri": "https://localhost:8080/",
          "height": 441
        },
        "outputId": "ba61fbc8-65af-46c0-a7f6-2c9ff9ab2f52"
      },
      "source": [
        "#Gráfico de barras para os 5 países que mais apresenta mortes.\n",
        "df_aux = df_covid.loc[df_covid.date == '2020-06-19', ['location', 'total_deaths']].sort_values(by='total_deaths', ascending=False)[1:6]\n",
        "fig, ax = plt.subplots(figsize=(14,6))\n",
        "\n",
        "sns.barplot(df_aux.location, df_aux.total_deaths, palette='rocket', ax=ax)\n",
        "\n",
        "ax.set_title('TOP 5 Países com mais mortes de COVID-19')\n",
        "ax.set_xlabel('Países')\n",
        "ax.set_ylabel('Total de Mortes')\n",
        "\n",
        "plt.tight_layout()"
      ],
      "execution_count": null,
      "outputs": [
        {
          "output_type": "display_data",
          "data": {
            "image/png": "[encoded data removed]",
            "text/plain": [
              "<Figure size 1008x432 with 1 Axes>"
            ]
          },
          "metadata": {
            "tags": [],
            "needs_background": "light"
          }
        }
      ]
    },
    {
      "cell_type": "code",
      "metadata": {
        "id": "e4U8DgJaq3eS",
        "colab_type": "code",
        "colab": {
          "base_uri": "https://localhost:8080/",
          "height": 441
        },
        "outputId": "ae56101d-63ae-47ec-94d4-d67f67e9391f"
      },
      "source": [
        "#Gráfico de linhas para ver a evolução do total de casos de COVID-19 no mundo.\n",
        "fig, ax = plt.subplots(figsize=(9,5))\n",
        "\n",
        "df_covid.loc['2019-12-31':'2020-06-25', 'total_deaths'].plot(kind='line', ax=ax)\n",
        "ax.set_title('Evolução do número de mortes')\n",
        "ax.set_xlabel('Dias corridos')\n",
        "ax.set_ylabel('Numero de mortes')\n",
        "\n",
        "plt.tight_layout()"
      ],
      "execution_count": null,
      "outputs": [
        {
          "output_type": "display_data",
          "data": {
            "image/png": "[encoded data removed]",
            "text/plain": [
              "<Figure size 648x360 with 1 Axes>"
            ]
          },
          "metadata": {
            "tags": [],
            "needs_background": "light"
          }
        }
      ]
    },
    {
      "cell_type": "code",
      "metadata": {
        "id": "OiNpLY1Uph1-",
        "colab_type": "code",
        "colab": {
          "base_uri": "https://localhost:8080/",
          "height": 225
        },
        "outputId": "b84ba632-b91a-4e69-d34d-9d1793a5a9bf"
      },
      "source": [
        "#Gráfico de dispersão considerando gdp_per_capita (ou seja, o PIB dos países) pelo número total de mortos.\n",
        "fig, ax2 = plt.subplots(figsize=(10,3))\n",
        "\n",
        "ax.set_xlim(right=8)\n",
        "sns.regplot(x='gdp_per_capita', y='total_deaths', line_kws={'color':'red'}, ax=ax2, \n",
        "            data=df_covid.loc[(df_covid.date == '2020-06-25') & (df_covid.location != 'World'), ['gdp_per_capita', 'total_deaths']])\n",
        "\n",
        "ax2.set_title('Gráfico PIB x Numero de Mortos')\n",
        "ax2.set_xlabel('PIB')\n",
        "ax2.set_ylabel('Numero de mortes')\n",
        "\n",
        "plt.tight_layout()"
      ],
      "execution_count": null,
      "outputs": [
        {
          "output_type": "display_data",
          "data": {
            "image/png": "[encoded data removed]",
            "text/plain": [
              "<Figure size 720x216 with 1 Axes>"
            ]
          },
          "metadata": {
            "tags": [],
            "needs_background": "light"
          }
        }
      ]
    },
    {
      "cell_type": "markdown",
      "metadata": {
        "id": "SViA5VZ7DYLA",
        "colab_type": "text"
      },
      "source": [
        "### Análise Exploratória para o Brasil\n",
        "\n",
        "* Criar uma cópia do DataFrame apenas com o Brasil\n",
        "    * `df_brasil = df.loc[df.location == \"Brazil\"].copy()`\n",
        "* Identificar quando foi registrada a primeira morte no Brasil\n",
        "* Identificar quantos dias demorou para registrarmos a primeira morte, considerando o primeiro caso de COVID-19 registrado.\n",
        "* Plotar gráficos de linha em escalas linear e logarítmica para os casos totais e mortes totais."
      ]
    },
    {
      "cell_type": "code",
      "metadata": {
        "id": "GIA80PeB9tr6",
        "colab_type": "code",
        "colab": {}
      },
      "source": [
        "#Criando uma cópia do DataFrame apenas do Brasil\n",
        "df_brasil = df_covid.loc[df_covid.location == \"Brazil\"].copy()"
      ],
      "execution_count": 4,
      "outputs": []
    },
    {
      "cell_type": "code",
      "metadata": {
        "id": "UDQA502_hAwI",
        "colab_type": "code",
        "colab": {
          "base_uri": "https://localhost:8080/",
          "height": 117
        },
        "outputId": "9a9cc6b0-103d-4ed4-ed8c-4a006920ad54"
      },
      "source": [
        "#Dados do dia da primeira morte registrada no Brasil\n",
        "df_brasil.loc[df_covid.total_deaths == 1]"
      ],
      "execution_count": null,
      "outputs": [
        {
          "output_type": "execute_result",
          "data": {
            "text/html": [
              "<div>\n",
              "<style scoped>\n",
              "    .dataframe tbody tr th:only-of-type {\n",
              "        vertical-align: middle;\n",
              "    }\n",
              "\n",
              "    .dataframe tbody tr th {\n",
              "        vertical-align: top;\n",
              "    }\n",
              "\n",
              "    .dataframe thead th {\n",
              "        text-align: right;\n",
              "    }\n",
              "</style>\n",
              "<table border=\"1\" class=\"dataframe\">\n",
              "  <thead>\n",
              "    <tr style=\"text-align: right;\">\n",
              "      <th></th>\n",
              "      <th>iso_code</th>\n",
              "      <th>continent</th>\n",
              "      <th>location</th>\n",
              "      <th>date</th>\n",
              "      <th>total_cases</th>\n",
              "      <th>new_cases</th>\n",
              "      <th>total_deaths</th>\n",
              "      <th>new_deaths</th>\n",
              "      <th>total_cases_per_million</th>\n",
              "      <th>new_cases_per_million</th>\n",
              "      <th>total_deaths_per_million</th>\n",
              "      <th>new_deaths_per_million</th>\n",
              "      <th>total_tests</th>\n",
              "      <th>new_tests</th>\n",
              "      <th>total_tests_per_thousand</th>\n",
              "      <th>new_tests_per_thousand</th>\n",
              "      <th>new_tests_smoothed</th>\n",
              "      <th>new_tests_smoothed_per_thousand</th>\n",
              "      <th>tests_units</th>\n",
              "      <th>stringency_index</th>\n",
              "      <th>population</th>\n",
              "      <th>population_density</th>\n",
              "      <th>median_age</th>\n",
              "      <th>aged_65_older</th>\n",
              "      <th>aged_70_older</th>\n",
              "      <th>gdp_per_capita</th>\n",
              "      <th>extreme_poverty</th>\n",
              "      <th>cvd_death_rate</th>\n",
              "      <th>diabetes_prevalence</th>\n",
              "      <th>female_smokers</th>\n",
              "      <th>male_smokers</th>\n",
              "      <th>handwashing_facilities</th>\n",
              "      <th>hospital_beds_per_thousand</th>\n",
              "      <th>life_expectancy</th>\n",
              "    </tr>\n",
              "  </thead>\n",
              "  <tbody>\n",
              "    <tr>\n",
              "      <th>3445</th>\n",
              "      <td>BRA</td>\n",
              "      <td>South America</td>\n",
              "      <td>Brazil</td>\n",
              "      <td>2020-03-18</td>\n",
              "      <td>291.0</td>\n",
              "      <td>57.0</td>\n",
              "      <td>1.0</td>\n",
              "      <td>1.0</td>\n",
              "      <td>1.369</td>\n",
              "      <td>0.268</td>\n",
              "      <td>0.005</td>\n",
              "      <td>0.005</td>\n",
              "      <td>NaN</td>\n",
              "      <td>NaN</td>\n",
              "      <td>NaN</td>\n",
              "      <td>NaN</td>\n",
              "      <td>NaN</td>\n",
              "      <td>NaN</td>\n",
              "      <td>NaN</td>\n",
              "      <td>60.65</td>\n",
              "      <td>212559409.0</td>\n",
              "      <td>25.04</td>\n",
              "      <td>33.5</td>\n",
              "      <td>8.552</td>\n",
              "      <td>5.06</td>\n",
              "      <td>14103.452</td>\n",
              "      <td>3.4</td>\n",
              "      <td>177.961</td>\n",
              "      <td>8.11</td>\n",
              "      <td>10.1</td>\n",
              "      <td>17.9</td>\n",
              "      <td>NaN</td>\n",
              "      <td>2.2</td>\n",
              "      <td>75.88</td>\n",
              "    </tr>\n",
              "  </tbody>\n",
              "</table>\n",
              "</div>"
            ],
            "text/plain": [
              "     iso_code      continent  ... hospital_beds_per_thousand life_expectancy\n",
              "3445      BRA  South America  ...                        2.2           75.88\n",
              "\n",
              "[1 rows x 34 columns]"
            ]
          },
          "metadata": {
            "tags": []
          },
          "execution_count": 115
        }
      ]
    },
    {
      "cell_type": "code",
      "metadata": {
        "id": "H15ctusaE21W",
        "colab_type": "code",
        "colab": {}
      },
      "source": [
        "df_brasil.drop(columns='date', inplace=True)"
      ],
      "execution_count": null,
      "outputs": []
    },
    {
      "cell_type": "code",
      "metadata": {
        "id": "wGbxbgvg-bce",
        "colab_type": "code",
        "colab": {
          "base_uri": "https://localhost:8080/",
          "height": 511
        },
        "outputId": "b46a078d-7fea-4f0c-f3b4-49dd31767cdd"
      },
      "source": [
        "#TOTAL DE CASOS X TOTAL DE MORTOS\n",
        "fig, ax = plt.subplots(nrows = 1, ncols = 2, figsize = (20,8))\n",
        "\n",
        "#Gráfico total de casos\n",
        "ax[0].plot(df_brasil.total_cases, color = \"b\")\n",
        "ax[0].set_xlabel(\"Casos\")\n",
        "ax[0].set_title(\"Total casos no Brasil\")\n",
        "\n",
        "\n",
        "#Gráfico total de mortes\n",
        "ax[1].plot(df_brasil.total_deaths, color = \"r\")\n",
        "ax[1].set_xlabel(\"Mortes\")\n",
        "ax[1].set_title(\"Total de mortes no Brasil\")\n",
        "\n",
        "plt.tight_layout()"
      ],
      "execution_count": 5,
      "outputs": [
        {
          "output_type": "display_data",
          "data": {
            "image/png": "[encoded data removed]",
            "text/plain": [
              "<Figure size 1440x576 with 2 Axes>"
            ]
          },
          "metadata": {
            "tags": [],
            "needs_background": "light"
          }
        }
      ]
    },
    {
      "cell_type": "markdown",
      "metadata": {
        "id": "LCsiXvM3BcsO",
        "colab_type": "text"
      },
      "source": [
        "## Conclusão\n",
        "\n",
        "Conclui-se a respeito do COVID-19:\n",
        "\n",
        "- O Estados Unidos tem o maior número de casos e de mortes;\n",
        "- O Brasil é o segundo em numero de casos e de mortos;\n",
        "- O valor do PIB não influencia na prevenção do coronavírus;\n",
        "- A partir do mês de abril de 2020, o número de caso no Brasil cresceu bastante;\n",
        "\n",
        "As medidas de prevenção no Brasil não estão sendo cumpridas conforme deveriam ser, logo, não surgirão tantos efeitos positivos, acarretando em maiores números de casos e de mortes."
      ]
    }
  ]
}
