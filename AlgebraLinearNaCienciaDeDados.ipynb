{
  "nbformat": 4,
  "nbformat_minor": 0,
  "metadata": {
    "colab": {
      "name": "AlgebraLinearNaCienciaDeDados.ipynb",
      "provenance": []
    },
    "kernelspec": {
      "name": "python3",
      "display_name": "Python 3"
    }
  },
  "cells": [
    {
      "cell_type": "markdown",
      "metadata": {
        "id": "6pRU4a41AblC",
        "colab_type": "text"
      },
      "source": [
        "# **Álgebra Linear na Ciência de Dados**"
      ]
    },
    {
      "cell_type": "markdown",
      "metadata": {
        "id": "eEy2gIRwA-FW",
        "colab_type": "text"
      },
      "source": [
        "**Criando vetores e matrizes no Python**"
      ]
    },
    {
      "cell_type": "markdown",
      "metadata": {
        "id": "RW0KgzJVBDhv",
        "colab_type": "text"
      },
      "source": [
        "Para criar vetores e matrizes no Python basta criar listas e depois convertê-las para Numpy Arrays:"
      ]
    },
    {
      "cell_type": "code",
      "metadata": {
        "id": "21VufzR0AjS7",
        "colab_type": "code",
        "colab": {}
      },
      "source": [
        "import numpy as np"
      ],
      "execution_count": 1,
      "outputs": []
    },
    {
      "cell_type": "markdown",
      "metadata": {
        "id": "m0-QXyoBBG0i",
        "colab_type": "text"
      },
      "source": [
        "Vetores:"
      ]
    },
    {
      "cell_type": "code",
      "metadata": {
        "id": "kbmD-14IAmb1",
        "colab_type": "code",
        "colab": {
          "base_uri": "https://localhost:8080/",
          "height": 51
        },
        "outputId": "dfae89e0-91d3-4f12-96dc-49f68a95a306"
      },
      "source": [
        "#Criando lista\n",
        "x=[1,4,2,9]\n",
        "print(type(x))\n",
        "\n",
        "#Convertendo\n",
        "x=np.array(x)\n",
        "print(type(x)) #já temos um vetor criado"
      ],
      "execution_count": 2,
      "outputs": [
        {
          "output_type": "stream",
          "text": [
            "<class 'list'>\n",
            "<class 'numpy.ndarray'>\n"
          ],
          "name": "stdout"
        }
      ]
    },
    {
      "cell_type": "code",
      "metadata": {
        "id": "85Gz9cEEApiD",
        "colab_type": "code",
        "colab": {
          "base_uri": "https://localhost:8080/",
          "height": 34
        },
        "outputId": "14cee4b5-e0aa-49f4-a642-6d5c5f69e218"
      },
      "source": [
        "#Printando Vetor\n",
        "print(x)"
      ],
      "execution_count": 3,
      "outputs": [
        {
          "output_type": "stream",
          "text": [
            "[1 4 2 9]\n"
          ],
          "name": "stdout"
        }
      ]
    },
    {
      "cell_type": "code",
      "metadata": {
        "id": "c9qWZsdXArG6",
        "colab_type": "code",
        "colab": {
          "base_uri": "https://localhost:8080/",
          "height": 34
        },
        "outputId": "f5720282-e612-4013-caaa-c8fa8178b123"
      },
      "source": [
        "#Verificando o \"shape\"\n",
        "\n",
        "print(x.shape) #O vetor \"x\" tem tamanho 4"
      ],
      "execution_count": 4,
      "outputs": [
        {
          "output_type": "stream",
          "text": [
            "(4,)\n"
          ],
          "name": "stdout"
        }
      ]
    },
    {
      "cell_type": "code",
      "metadata": {
        "id": "w0Tjh9nLAwTq",
        "colab_type": "code",
        "colab": {
          "base_uri": "https://localhost:8080/",
          "height": 34
        },
        "outputId": "eab90c7b-7467-4ff7-90fe-f71e53b48569"
      },
      "source": [
        "print(type(np.r_[1,2,3]))"
      ],
      "execution_count": 5,
      "outputs": [
        {
          "output_type": "stream",
          "text": [
            "<class 'numpy.ndarray'>\n"
          ],
          "name": "stdout"
        }
      ]
    },
    {
      "cell_type": "markdown",
      "metadata": {
        "id": "0E5Nt7BmBKQj",
        "colab_type": "text"
      },
      "source": [
        "Matrizes:"
      ]
    },
    {
      "cell_type": "code",
      "metadata": {
        "id": "kM1LIvgSAyZv",
        "colab_type": "code",
        "colab": {
          "base_uri": "https://localhost:8080/",
          "height": 51
        },
        "outputId": "6a692685-4f0a-40d3-ff5b-bf2cfd9b1ac0"
      },
      "source": [
        "#Para criar matrizes é necessário criar listas dentro da lista principal,\n",
        "#sendo que cada lista interna representa uma linha da matriz.\n",
        "\n",
        "#Criando lista\n",
        "A=[[1,4,2],[6,2,8],[3,7,7],[3,4,2]]\n",
        "print(type(A))\n",
        "\n",
        "#Convertendo\n",
        "A=np.array(A)\n",
        "print(type(A)) #já temos um vetor criado"
      ],
      "execution_count": 6,
      "outputs": [
        {
          "output_type": "stream",
          "text": [
            "<class 'list'>\n",
            "<class 'numpy.ndarray'>\n"
          ],
          "name": "stdout"
        }
      ]
    },
    {
      "cell_type": "code",
      "metadata": {
        "id": "olCM7W0LBM_9",
        "colab_type": "code",
        "colab": {
          "base_uri": "https://localhost:8080/",
          "height": 85
        },
        "outputId": "538b865b-dd36-483d-cf4d-b9c00b6fbf8b"
      },
      "source": [
        "print(A)"
      ],
      "execution_count": 7,
      "outputs": [
        {
          "output_type": "stream",
          "text": [
            "[[1 4 2]\n",
            " [6 2 8]\n",
            " [3 7 7]\n",
            " [3 4 2]]\n"
          ],
          "name": "stdout"
        }
      ]
    },
    {
      "cell_type": "code",
      "metadata": {
        "id": "lLV3KkT4BPyZ",
        "colab_type": "code",
        "colab": {
          "base_uri": "https://localhost:8080/",
          "height": 34
        },
        "outputId": "d8d5309a-6915-4ad1-a3dd-9c82e68211ac"
      },
      "source": [
        "#Verificando o \"shape\"\n",
        "print(A.shape) #\"A\" tem 4 linhas e 3 colunas"
      ],
      "execution_count": 8,
      "outputs": [
        {
          "output_type": "stream",
          "text": [
            "(4, 3)\n"
          ],
          "name": "stdout"
        }
      ]
    },
    {
      "cell_type": "markdown",
      "metadata": {
        "id": "ri1-yuGPBTpw",
        "colab_type": "text"
      },
      "source": [
        "Selecionando colunas e linhas específicas da matriz A:"
      ]
    },
    {
      "cell_type": "code",
      "metadata": {
        "id": "8wM0lXnuBRz-",
        "colab_type": "code",
        "colab": {
          "base_uri": "https://localhost:8080/",
          "height": 34
        },
        "outputId": "8b988349-ebb2-404e-e574-8b3d4158e872"
      },
      "source": [
        "print(A[0,:])"
      ],
      "execution_count": 9,
      "outputs": [
        {
          "output_type": "stream",
          "text": [
            "[1 4 2]\n"
          ],
          "name": "stdout"
        }
      ]
    },
    {
      "cell_type": "code",
      "metadata": {
        "id": "8bvzrYHHBWDP",
        "colab_type": "code",
        "colab": {
          "base_uri": "https://localhost:8080/",
          "height": 34
        },
        "outputId": "252898c4-1f79-4e2b-c20f-30e68346bab4"
      },
      "source": [
        "print(A[:,2])"
      ],
      "execution_count": 10,
      "outputs": [
        {
          "output_type": "stream",
          "text": [
            "[2 8 7 2]\n"
          ],
          "name": "stdout"
        }
      ]
    },
    {
      "cell_type": "code",
      "metadata": {
        "id": "OrFwx7V9BjJT",
        "colab_type": "code",
        "colab": {
          "base_uri": "https://localhost:8080/",
          "height": 51
        },
        "outputId": "20caf20d-8e9d-42ed-8076-a00e6d4a72d8"
      },
      "source": [
        "print(A[:2,1:])"
      ],
      "execution_count": 11,
      "outputs": [
        {
          "output_type": "stream",
          "text": [
            "[[4 2]\n",
            " [2 8]]\n"
          ],
          "name": "stdout"
        }
      ]
    },
    {
      "cell_type": "markdown",
      "metadata": {
        "id": "3_mOn1ftBoJY",
        "colab_type": "text"
      },
      "source": [
        "Criando alguns vetores e matrizes específicos:"
      ]
    },
    {
      "cell_type": "code",
      "metadata": {
        "id": "eqbjRA4LBnjd",
        "colab_type": "code",
        "colab": {
          "base_uri": "https://localhost:8080/",
          "height": 51
        },
        "outputId": "72b4815f-82d0-4831-edbb-327d38fc43cb"
      },
      "source": [
        "x = np.ones(3)  #vetor somente composto de \"uns\"\n",
        "y = np.zeros(3) #vetor somente composto de \"zeros\"\n",
        "\n",
        "print(x)\n",
        "print(y)"
      ],
      "execution_count": 12,
      "outputs": [
        {
          "output_type": "stream",
          "text": [
            "[1. 1. 1.]\n",
            "[0. 0. 0.]\n"
          ],
          "name": "stdout"
        }
      ]
    },
    {
      "cell_type": "code",
      "metadata": {
        "id": "Kmg5MY90Bkyw",
        "colab_type": "code",
        "colab": {
          "base_uri": "https://localhost:8080/",
          "height": 85
        },
        "outputId": "9ca1588e-a975-4493-9403-a3d7badbeb14"
      },
      "source": [
        "A = np.ones((2,3))  #matriz (2x3) somente composto de \"uns\"\n",
        "B = np.zeros((2,3)) #matriz (2x3) somente composto de \"zeros\"\n",
        "\n",
        "print(A)\n",
        "print(B)"
      ],
      "execution_count": 13,
      "outputs": [
        {
          "output_type": "stream",
          "text": [
            "[[1. 1. 1.]\n",
            " [1. 1. 1.]]\n",
            "[[0. 0. 0.]\n",
            " [0. 0. 0.]]\n"
          ],
          "name": "stdout"
        }
      ]
    },
    {
      "cell_type": "markdown",
      "metadata": {
        "id": "5A0u5RpEBu1L",
        "colab_type": "text"
      },
      "source": [
        "**Operações com matrizes e vetores**"
      ]
    },
    {
      "cell_type": "markdown",
      "metadata": {
        "id": "DEqhksZFB0s0",
        "colab_type": "text"
      },
      "source": [
        "Soma e subtração:"
      ]
    },
    {
      "cell_type": "code",
      "metadata": {
        "id": "J1vSBmk-Bs3_",
        "colab_type": "code",
        "colab": {
          "base_uri": "https://localhost:8080/",
          "height": 51
        },
        "outputId": "483604a6-8df7-4df4-d3b6-ab524c0d3c2e"
      },
      "source": [
        "x=np.array([1,4,2,9])\n",
        "y=np.array([2,1,3,0])\n",
        "\n",
        "print(x+y)\n",
        "print(x-y)"
      ],
      "execution_count": 14,
      "outputs": [
        {
          "output_type": "stream",
          "text": [
            "[3 5 5 9]\n",
            "[-1  3 -1  9]\n"
          ],
          "name": "stdout"
        }
      ]
    },
    {
      "cell_type": "markdown",
      "metadata": {
        "id": "Huvj7OmwB6Jt",
        "colab_type": "text"
      },
      "source": [
        "\n",
        "Produto por um escalar $\\alpha$:"
      ]
    },
    {
      "cell_type": "code",
      "metadata": {
        "id": "CvGOsh-mB4ja",
        "colab_type": "code",
        "colab": {
          "base_uri": "https://localhost:8080/",
          "height": 51
        },
        "outputId": "d71d02fb-d002-4182-c502-41317365aee4"
      },
      "source": [
        "x=np.array([1,4,2,9])\n",
        "alpha=2\n",
        "\n",
        "print(x)\n",
        "print(alpha*x)"
      ],
      "execution_count": 15,
      "outputs": [
        {
          "output_type": "stream",
          "text": [
            "[1 4 2 9]\n",
            "[ 2  8  4 18]\n"
          ],
          "name": "stdout"
        }
      ]
    },
    {
      "cell_type": "markdown",
      "metadata": {
        "id": "7rmjsplVCAhi",
        "colab_type": "text"
      },
      "source": [
        "Transposição:"
      ]
    },
    {
      "cell_type": "code",
      "metadata": {
        "id": "QsIcbBXJB99k",
        "colab_type": "code",
        "colab": {
          "base_uri": "https://localhost:8080/",
          "height": 51
        },
        "outputId": "0affbbd7-aa59-4348-b411-f0defa081d95"
      },
      "source": [
        "A=np.array([[1,4,2],[6,2,8]])\n",
        "print(A)"
      ],
      "execution_count": 16,
      "outputs": [
        {
          "output_type": "stream",
          "text": [
            "[[1 4 2]\n",
            " [6 2 8]]\n"
          ],
          "name": "stdout"
        }
      ]
    },
    {
      "cell_type": "code",
      "metadata": {
        "id": "7e9cP5AdCCun",
        "colab_type": "code",
        "colab": {
          "base_uri": "https://localhost:8080/",
          "height": 68
        },
        "outputId": "c7ede7ce-c826-4971-90b4-37b11007770b"
      },
      "source": [
        "print(A.T) #transposta: colocar \".T\" no fim"
      ],
      "execution_count": 17,
      "outputs": [
        {
          "output_type": "stream",
          "text": [
            "[[1 6]\n",
            " [4 2]\n",
            " [2 8]]\n"
          ],
          "name": "stdout"
        }
      ]
    },
    {
      "cell_type": "markdown",
      "metadata": {
        "id": "G0r0CYo5CJNn",
        "colab_type": "text"
      },
      "source": [
        "Produto de matrizes:"
      ]
    },
    {
      "cell_type": "code",
      "metadata": {
        "id": "-UUG7IoFCFWi",
        "colab_type": "code",
        "colab": {}
      },
      "source": [
        "A=np.array([[1,4,2],[6,2,8]])\n",
        "B=np.array([[3,7,7],[3,4,2]])"
      ],
      "execution_count": 19,
      "outputs": []
    },
    {
      "cell_type": "code",
      "metadata": {
        "id": "98uizeIfCS3u",
        "colab_type": "code",
        "colab": {
          "base_uri": "https://localhost:8080/",
          "height": 51
        },
        "outputId": "89bed46f-41cb-4bbb-f7e6-a2f844a67717"
      },
      "source": [
        "#usando a transposta de B (B.T)\n",
        "C=np.matmul(A,B.T)\n",
        "print(C)"
      ],
      "execution_count": 20,
      "outputs": [
        {
          "output_type": "stream",
          "text": [
            "[[45 23]\n",
            " [88 42]]\n"
          ],
          "name": "stdout"
        }
      ]
    },
    {
      "cell_type": "code",
      "metadata": {
        "id": "n3EQsLqMCVMe",
        "colab_type": "code",
        "colab": {
          "base_uri": "https://localhost:8080/",
          "height": 51
        },
        "outputId": "84a000d8-0853-492b-b5f8-6ed4b2f0ebd2"
      },
      "source": [
        "#Outra maneira\n",
        "C=A.dot(B.T)\n",
        "print(C)"
      ],
      "execution_count": 21,
      "outputs": [
        {
          "output_type": "stream",
          "text": [
            "[[45 23]\n",
            " [88 42]]\n"
          ],
          "name": "stdout"
        }
      ]
    },
    {
      "cell_type": "markdown",
      "metadata": {
        "id": "j-FuRkQeCXK0",
        "colab_type": "text"
      },
      "source": [
        "Produto elemento a elemento (element wise product)"
      ]
    },
    {
      "cell_type": "code",
      "metadata": {
        "id": "-grIbfX8CX2G",
        "colab_type": "code",
        "colab": {
          "base_uri": "https://localhost:8080/",
          "height": 34
        },
        "outputId": "d8d420dd-02ef-42c7-de98-96b241df3aa4"
      },
      "source": [
        "x=np.array([1,4,2,9])\n",
        "y=np.array([2,1,3,0])\n",
        "\n",
        "print(x*y)"
      ],
      "execution_count": 22,
      "outputs": [
        {
          "output_type": "stream",
          "text": [
            "[2 4 6 0]\n"
          ],
          "name": "stdout"
        }
      ]
    }
  ]
}