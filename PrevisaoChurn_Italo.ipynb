{
  "nbformat": 4,
  "nbformat_minor": 5,
  "metadata": {
    "kernelspec": {
      "display_name": "Python 3",
      "language": "python",
      "name": "python3"
    },
    "language_info": {
      "codemirror_mode": {
        "name": "ipython",
        "version": 3
      },
      "file_extension": ".py",
      "mimetype": "text/x-python",
      "name": "python",
      "nbconvert_exporter": "python",
      "pygments_lexer": "ipython3",
      "version": "3.8.8"
    },
    "colab": {
      "name": "PrevisaoChurn-Italo.ipynb",
      "provenance": [],
      "collapsed_sections": []
    }
  },
  "cells": [
    {
      "cell_type": "markdown",
      "metadata": {
        "id": "288c53ca"
      },
      "source": [
        "# 0.0 IMPORT"
      ],
      "id": "288c53ca"
    },
    {
      "cell_type": "code",
      "metadata": {
        "id": "af53f11f"
      },
      "source": [
        "# import warnings filter\n",
        "from warnings import simplefilter\n",
        "# ignore all future warnings\n",
        "simplefilter(action='ignore', category=FutureWarning)\n",
        "\n",
        "import matplotlib.pyplot         as plt\n",
        "import seaborn                   as sns\n",
        "import pandas                    as pd\n",
        "import numpy                     as np\n",
        "import tensorflow                as tf\n",
        "\n",
        "from sklearn.model_selection     import train_test_split\n",
        "from sklearn.preprocessing       import OneHotEncoder, MinMaxScaler\n",
        "from sklearn.linear_model        import LogisticRegression\n",
        "from sklearn.ensemble            import RandomForestClassifier\n",
        "from sklearn.metrics             import accuracy_score, f1_score, confusion_matrix, classification_report\n",
        "from sklearn.tree                import DecisionTreeClassifier\n",
        "from sklearn.svm                 import SVC\n",
        "from xgboost                     import XGBClassifier\n",
        "from imblearn.over_sampling      import SMOTE\n",
        "from keras.models                import Sequential\n",
        "from keras.layers                import Dense\n",
        "from keras.optimizers            import Adam\n",
        "from google.colab                import files\n",
        "from google.colab                import drive\n",
        "\n",
        "import pickle\n",
        "import pylab\n",
        "\n",
        "\n",
        "%matplotlib inline"
      ],
      "id": "af53f11f",
      "execution_count": null,
      "outputs": []
    },
    {
      "cell_type": "markdown",
      "metadata": {
        "id": "47d12f8b"
      },
      "source": [
        "## 0.1 Help Functions"
      ],
      "id": "47d12f8b"
    },
    {
      "cell_type": "code",
      "metadata": {
        "id": "72c72fdb"
      },
      "source": [
        "# Converte um objeto do tipo string em float.\n",
        "def converter_str_float(entrada):\n",
        "    try:\n",
        "        return float(entrada)\n",
        "    except ValueError:\n",
        "        return np.nan\n",
        "\n",
        "#tamanho dos gráficos\n",
        "def tamanho( x, y ):\n",
        "    pylab.rcParams['figure.figsize'] = (x, y)"
      ],
      "id": "72c72fdb",
      "execution_count": null,
      "outputs": []
    },
    {
      "cell_type": "code",
      "metadata": {
        "colab": {
          "resources": {
            "http://localhost:8080/nbextensions/google.colab/files.js": {
              "data": "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",
              "ok": true,
              "headers": [
                [
                  "content-type",
                  "application/javascript"
                ]
              ],
              "status": 200,
              "status_text": ""
            }
          },
          "base_uri": "https://localhost:8080/",
          "height": 73
        },
        "id": "4kCUn9fmRg7F",
        "outputId": "1a071525-d4b0-468c-96b7-e3689e1b6f22"
      },
      "source": [
        "# Subindo o csv\n",
        "n = files.upload()"
      ],
      "id": "4kCUn9fmRg7F",
      "execution_count": null,
      "outputs": [
        {
          "output_type": "display_data",
          "data": {
            "text/html": [
              "\n",
              "     <input type=\"file\" id=\"files-46e45381-c765-413a-8298-17ea3b571f65\" name=\"files[]\" multiple disabled\n",
              "        style=\"border:none\" />\n",
              "     <output id=\"result-46e45381-c765-413a-8298-17ea3b571f65\">\n",
              "      Upload widget is only available when the cell has been executed in the\n",
              "      current browser session. Please rerun this cell to enable.\n",
              "      </output>\n",
              "      <script src=\"/nbextensions/google.colab/files.js\"></script> "
            ],
            "text/plain": [
              "<IPython.core.display.HTML object>"
            ]
          },
          "metadata": {
            "tags": []
          }
        },
        {
          "output_type": "stream",
          "text": [
            "Saving churn-dados.csv to churn-dados.csv\n"
          ],
          "name": "stdout"
        }
      ]
    },
    {
      "cell_type": "markdown",
      "metadata": {
        "id": "306e0a19"
      },
      "source": [
        "## 0.2 Loading Dataset"
      ],
      "id": "306e0a19"
    },
    {
      "cell_type": "code",
      "metadata": {
        "id": "84da24e4"
      },
      "source": [
        "df_raw = pd.read_csv('churn-dados.csv', low_memory = False)"
      ],
      "id": "84da24e4",
      "execution_count": null,
      "outputs": []
    },
    {
      "cell_type": "markdown",
      "metadata": {
        "id": "75894465"
      },
      "source": [
        "# 1.0 DESCRIÇÃO DOS DADOS"
      ],
      "id": "75894465"
    },
    {
      "cell_type": "code",
      "metadata": {
        "id": "41fec5fb"
      },
      "source": [
        "df1 = df_raw.copy()"
      ],
      "id": "41fec5fb",
      "execution_count": null,
      "outputs": []
    },
    {
      "cell_type": "code",
      "metadata": {
        "id": "ad105390"
      },
      "source": [
        "df1 = df1.rename(columns={'customerID': 'id', 'gender': 'genero', 'SeniorCitizen': 'antigo', 'Dependents': 'dependentes',\n",
        "                         'tenure': 'posse', 'PhoneService': 'servico_telefone', 'MultipleLines': 'linhas_multiplas',\n",
        "                         'InternetService': 'servico_internet', 'OnlineSecurity': 'seguranca_online', \n",
        "                          'OnlineBackup': 'backup_online', 'DeviceProtection': 'protecao_dispositivo',\n",
        "                          'TechSupport': 'suporte_tecnico', 'StreamingTV': 'streaming_tv', 'StreamingMovies': 'streaming_video',\n",
        "                          'Contract': 'contrato', 'PaperlessBilling': 'faturamento_sem_papel', 'PaymentMethod': 'metodo_pagamento',\n",
        "                          'MonthlyCharges': 'mensalidade', 'TotalCharges': 'custos_totais', 'Partner': 'parceiro', \n",
        "                          'Churn': 'churn'})"
      ],
      "id": "ad105390",
      "execution_count": null,
      "outputs": []
    },
    {
      "cell_type": "code",
      "metadata": {
        "colab": {
          "base_uri": "https://localhost:8080/",
          "height": 307
        },
        "id": "4ce5e51c",
        "outputId": "07048c05-1ca9-4c35-d79e-bc19fe383998"
      },
      "source": [
        "df1.head()"
      ],
      "id": "4ce5e51c",
      "execution_count": null,
      "outputs": [
        {
          "output_type": "execute_result",
          "data": {
            "text/html": [
              "<div>\n",
              "<style scoped>\n",
              "    .dataframe tbody tr th:only-of-type {\n",
              "        vertical-align: middle;\n",
              "    }\n",
              "\n",
              "    .dataframe tbody tr th {\n",
              "        vertical-align: top;\n",
              "    }\n",
              "\n",
              "    .dataframe thead th {\n",
              "        text-align: right;\n",
              "    }\n",
              "</style>\n",
              "<table border=\"1\" class=\"dataframe\">\n",
              "  <thead>\n",
              "    <tr style=\"text-align: right;\">\n",
              "      <th></th>\n",
              "      <th>id</th>\n",
              "      <th>genero</th>\n",
              "      <th>antigo</th>\n",
              "      <th>parceiro</th>\n",
              "      <th>dependentes</th>\n",
              "      <th>posse</th>\n",
              "      <th>servico_telefone</th>\n",
              "      <th>linhas_multiplas</th>\n",
              "      <th>servico_internet</th>\n",
              "      <th>seguranca_online</th>\n",
              "      <th>backup_online</th>\n",
              "      <th>protecao_dispositivo</th>\n",
              "      <th>suporte_tecnico</th>\n",
              "      <th>streaming_tv</th>\n",
              "      <th>streaming_video</th>\n",
              "      <th>contrato</th>\n",
              "      <th>faturamento_sem_papel</th>\n",
              "      <th>metodo_pagamento</th>\n",
              "      <th>mensalidade</th>\n",
              "      <th>custos_totais</th>\n",
              "      <th>churn</th>\n",
              "    </tr>\n",
              "  </thead>\n",
              "  <tbody>\n",
              "    <tr>\n",
              "      <th>0</th>\n",
              "      <td>7590-VHVEG</td>\n",
              "      <td>Female</td>\n",
              "      <td>0</td>\n",
              "      <td>Yes</td>\n",
              "      <td>No</td>\n",
              "      <td>1</td>\n",
              "      <td>No</td>\n",
              "      <td>No phone service</td>\n",
              "      <td>DSL</td>\n",
              "      <td>No</td>\n",
              "      <td>Yes</td>\n",
              "      <td>No</td>\n",
              "      <td>No</td>\n",
              "      <td>No</td>\n",
              "      <td>No</td>\n",
              "      <td>Month-to-month</td>\n",
              "      <td>Yes</td>\n",
              "      <td>Electronic check</td>\n",
              "      <td>29.85</td>\n",
              "      <td>29.85</td>\n",
              "      <td>No</td>\n",
              "    </tr>\n",
              "    <tr>\n",
              "      <th>1</th>\n",
              "      <td>5575-GNVDE</td>\n",
              "      <td>Male</td>\n",
              "      <td>0</td>\n",
              "      <td>No</td>\n",
              "      <td>No</td>\n",
              "      <td>34</td>\n",
              "      <td>Yes</td>\n",
              "      <td>No</td>\n",
              "      <td>DSL</td>\n",
              "      <td>Yes</td>\n",
              "      <td>No</td>\n",
              "      <td>Yes</td>\n",
              "      <td>No</td>\n",
              "      <td>No</td>\n",
              "      <td>No</td>\n",
              "      <td>One year</td>\n",
              "      <td>No</td>\n",
              "      <td>Mailed check</td>\n",
              "      <td>56.95</td>\n",
              "      <td>1889.5</td>\n",
              "      <td>No</td>\n",
              "    </tr>\n",
              "    <tr>\n",
              "      <th>2</th>\n",
              "      <td>3668-QPYBK</td>\n",
              "      <td>Male</td>\n",
              "      <td>0</td>\n",
              "      <td>No</td>\n",
              "      <td>No</td>\n",
              "      <td>2</td>\n",
              "      <td>Yes</td>\n",
              "      <td>No</td>\n",
              "      <td>DSL</td>\n",
              "      <td>Yes</td>\n",
              "      <td>Yes</td>\n",
              "      <td>No</td>\n",
              "      <td>No</td>\n",
              "      <td>No</td>\n",
              "      <td>No</td>\n",
              "      <td>Month-to-month</td>\n",
              "      <td>Yes</td>\n",
              "      <td>Mailed check</td>\n",
              "      <td>53.85</td>\n",
              "      <td>108.15</td>\n",
              "      <td>Yes</td>\n",
              "    </tr>\n",
              "    <tr>\n",
              "      <th>3</th>\n",
              "      <td>7795-CFOCW</td>\n",
              "      <td>Male</td>\n",
              "      <td>0</td>\n",
              "      <td>No</td>\n",
              "      <td>No</td>\n",
              "      <td>45</td>\n",
              "      <td>No</td>\n",
              "      <td>No phone service</td>\n",
              "      <td>DSL</td>\n",
              "      <td>Yes</td>\n",
              "      <td>No</td>\n",
              "      <td>Yes</td>\n",
              "      <td>Yes</td>\n",
              "      <td>No</td>\n",
              "      <td>No</td>\n",
              "      <td>One year</td>\n",
              "      <td>No</td>\n",
              "      <td>Bank transfer (automatic)</td>\n",
              "      <td>42.30</td>\n",
              "      <td>1840.75</td>\n",
              "      <td>No</td>\n",
              "    </tr>\n",
              "    <tr>\n",
              "      <th>4</th>\n",
              "      <td>9237-HQITU</td>\n",
              "      <td>Female</td>\n",
              "      <td>0</td>\n",
              "      <td>No</td>\n",
              "      <td>No</td>\n",
              "      <td>2</td>\n",
              "      <td>Yes</td>\n",
              "      <td>No</td>\n",
              "      <td>Fiber optic</td>\n",
              "      <td>No</td>\n",
              "      <td>No</td>\n",
              "      <td>No</td>\n",
              "      <td>No</td>\n",
              "      <td>No</td>\n",
              "      <td>No</td>\n",
              "      <td>Month-to-month</td>\n",
              "      <td>Yes</td>\n",
              "      <td>Electronic check</td>\n",
              "      <td>70.70</td>\n",
              "      <td>151.65</td>\n",
              "      <td>Yes</td>\n",
              "    </tr>\n",
              "  </tbody>\n",
              "</table>\n",
              "</div>"
            ],
            "text/plain": [
              "           id  genero  antigo  ... mensalidade custos_totais  churn\n",
              "0  7590-VHVEG  Female       0  ...       29.85         29.85     No\n",
              "1  5575-GNVDE    Male       0  ...       56.95        1889.5     No\n",
              "2  3668-QPYBK    Male       0  ...       53.85        108.15    Yes\n",
              "3  7795-CFOCW    Male       0  ...       42.30       1840.75     No\n",
              "4  9237-HQITU  Female       0  ...       70.70        151.65    Yes\n",
              "\n",
              "[5 rows x 21 columns]"
            ]
          },
          "metadata": {
            "tags": []
          },
          "execution_count": 7
        }
      ]
    },
    {
      "cell_type": "markdown",
      "metadata": {
        "id": "ce6031e0"
      },
      "source": [
        "## 1.1. Dimensão dos dados"
      ],
      "id": "ce6031e0"
    },
    {
      "cell_type": "code",
      "metadata": {
        "colab": {
          "base_uri": "https://localhost:8080/"
        },
        "id": "b248e8a6",
        "outputId": "11bc5e7c-88d3-4886-d1db-3ddd0c0dde05"
      },
      "source": [
        "print ('Numero de linhas: {}'.format(df1.shape[0]))\n",
        "print ('Numero de colunas: {}'.format(df1.shape[1]))"
      ],
      "id": "b248e8a6",
      "execution_count": null,
      "outputs": [
        {
          "output_type": "stream",
          "text": [
            "Numero de linhas: 7043\n",
            "Numero de colunas: 21\n"
          ],
          "name": "stdout"
        }
      ]
    },
    {
      "cell_type": "markdown",
      "metadata": {
        "id": "8dc573cc"
      },
      "source": [
        "## 1.2. Tipos de dados"
      ],
      "id": "8dc573cc"
    },
    {
      "cell_type": "code",
      "metadata": {
        "colab": {
          "base_uri": "https://localhost:8080/"
        },
        "id": "2b70d881",
        "outputId": "cd828076-e8b5-4303-cda7-89a2d62177a7"
      },
      "source": [
        "df1.dtypes"
      ],
      "id": "2b70d881",
      "execution_count": null,
      "outputs": [
        {
          "output_type": "execute_result",
          "data": {
            "text/plain": [
              "id                        object\n",
              "genero                    object\n",
              "antigo                     int64\n",
              "parceiro                  object\n",
              "dependentes               object\n",
              "posse                      int64\n",
              "servico_telefone          object\n",
              "linhas_multiplas          object\n",
              "servico_internet          object\n",
              "seguranca_online          object\n",
              "backup_online             object\n",
              "protecao_dispositivo      object\n",
              "suporte_tecnico           object\n",
              "streaming_tv              object\n",
              "streaming_video           object\n",
              "contrato                  object\n",
              "faturamento_sem_papel     object\n",
              "metodo_pagamento          object\n",
              "mensalidade              float64\n",
              "custos_totais             object\n",
              "churn                     object\n",
              "dtype: object"
            ]
          },
          "metadata": {
            "tags": []
          },
          "execution_count": 9
        }
      ]
    },
    {
      "cell_type": "code",
      "metadata": {
        "id": "8fca43bc"
      },
      "source": [
        "df1[\"custos_totais\"] = df1[\"custos_totais\"].apply(converter_str_float)"
      ],
      "id": "8fca43bc",
      "execution_count": null,
      "outputs": []
    },
    {
      "cell_type": "markdown",
      "metadata": {
        "id": "5e3f2991"
      },
      "source": [
        "## 1.3. Check NA"
      ],
      "id": "5e3f2991"
    },
    {
      "cell_type": "code",
      "metadata": {
        "colab": {
          "base_uri": "https://localhost:8080/"
        },
        "id": "4a1aa920",
        "outputId": "16b80a13-12b4-4ecf-a4bf-cc214c9cb552"
      },
      "source": [
        "df1.isna().sum()"
      ],
      "id": "4a1aa920",
      "execution_count": null,
      "outputs": [
        {
          "output_type": "execute_result",
          "data": {
            "text/plain": [
              "id                        0\n",
              "genero                    0\n",
              "antigo                    0\n",
              "parceiro                  0\n",
              "dependentes               0\n",
              "posse                     0\n",
              "servico_telefone          0\n",
              "linhas_multiplas          0\n",
              "servico_internet          0\n",
              "seguranca_online          0\n",
              "backup_online             0\n",
              "protecao_dispositivo      0\n",
              "suporte_tecnico           0\n",
              "streaming_tv              0\n",
              "streaming_video           0\n",
              "contrato                  0\n",
              "faturamento_sem_papel     0\n",
              "metodo_pagamento          0\n",
              "mensalidade               0\n",
              "custos_totais            11\n",
              "churn                     0\n",
              "dtype: int64"
            ]
          },
          "metadata": {
            "tags": []
          },
          "execution_count": 11
        }
      ]
    },
    {
      "cell_type": "markdown",
      "metadata": {
        "id": "0aeb5875"
      },
      "source": [
        "## 1.4. Descrição Estatística"
      ],
      "id": "0aeb5875"
    },
    {
      "cell_type": "code",
      "metadata": {
        "id": "e879b70a"
      },
      "source": [
        "num_attributes = df1.select_dtypes(include = ['int64', 'float64'])\n",
        "\n",
        "cat_attributes = df1.select_dtypes(exclude = ['int64', 'float64'])"
      ],
      "id": "e879b70a",
      "execution_count": null,
      "outputs": []
    },
    {
      "cell_type": "code",
      "metadata": {
        "colab": {
          "base_uri": "https://localhost:8080/"
        },
        "id": "4a6fc57e",
        "outputId": "c630fbba-740d-4373-c4f7-4a04d9604b7d"
      },
      "source": [
        "num_attributes.nunique()"
      ],
      "id": "4a6fc57e",
      "execution_count": null,
      "outputs": [
        {
          "output_type": "execute_result",
          "data": {
            "text/plain": [
              "antigo              2\n",
              "posse              73\n",
              "mensalidade      1585\n",
              "custos_totais    6530\n",
              "dtype: int64"
            ]
          },
          "metadata": {
            "tags": []
          },
          "execution_count": 13
        }
      ]
    },
    {
      "cell_type": "code",
      "metadata": {
        "colab": {
          "base_uri": "https://localhost:8080/"
        },
        "id": "dc0e4598",
        "outputId": "2371ac29-39b9-4785-e362-db9f36968881"
      },
      "source": [
        "cat_attributes.nunique()"
      ],
      "id": "dc0e4598",
      "execution_count": null,
      "outputs": [
        {
          "output_type": "execute_result",
          "data": {
            "text/plain": [
              "id                       7043\n",
              "genero                      2\n",
              "parceiro                    2\n",
              "dependentes                 2\n",
              "servico_telefone            2\n",
              "linhas_multiplas            3\n",
              "servico_internet            3\n",
              "seguranca_online            3\n",
              "backup_online               3\n",
              "protecao_dispositivo        3\n",
              "suporte_tecnico             3\n",
              "streaming_tv                3\n",
              "streaming_video             3\n",
              "contrato                    3\n",
              "faturamento_sem_papel       2\n",
              "metodo_pagamento            4\n",
              "churn                       2\n",
              "dtype: int64"
            ]
          },
          "metadata": {
            "tags": []
          },
          "execution_count": 14
        }
      ]
    },
    {
      "cell_type": "code",
      "metadata": {
        "colab": {
          "base_uri": "https://localhost:8080/",
          "height": 295
        },
        "id": "cb573eca",
        "outputId": "eca4df53-53f2-4dac-e983-3d1fa8b9b6e4"
      },
      "source": [
        "df1.describe()"
      ],
      "id": "cb573eca",
      "execution_count": null,
      "outputs": [
        {
          "output_type": "execute_result",
          "data": {
            "text/html": [
              "<div>\n",
              "<style scoped>\n",
              "    .dataframe tbody tr th:only-of-type {\n",
              "        vertical-align: middle;\n",
              "    }\n",
              "\n",
              "    .dataframe tbody tr th {\n",
              "        vertical-align: top;\n",
              "    }\n",
              "\n",
              "    .dataframe thead th {\n",
              "        text-align: right;\n",
              "    }\n",
              "</style>\n",
              "<table border=\"1\" class=\"dataframe\">\n",
              "  <thead>\n",
              "    <tr style=\"text-align: right;\">\n",
              "      <th></th>\n",
              "      <th>antigo</th>\n",
              "      <th>posse</th>\n",
              "      <th>mensalidade</th>\n",
              "      <th>custos_totais</th>\n",
              "    </tr>\n",
              "  </thead>\n",
              "  <tbody>\n",
              "    <tr>\n",
              "      <th>count</th>\n",
              "      <td>7043.000000</td>\n",
              "      <td>7043.000000</td>\n",
              "      <td>7043.000000</td>\n",
              "      <td>7032.000000</td>\n",
              "    </tr>\n",
              "    <tr>\n",
              "      <th>mean</th>\n",
              "      <td>0.162147</td>\n",
              "      <td>32.371149</td>\n",
              "      <td>64.761692</td>\n",
              "      <td>2283.300441</td>\n",
              "    </tr>\n",
              "    <tr>\n",
              "      <th>std</th>\n",
              "      <td>0.368612</td>\n",
              "      <td>24.559481</td>\n",
              "      <td>30.090047</td>\n",
              "      <td>2266.771362</td>\n",
              "    </tr>\n",
              "    <tr>\n",
              "      <th>min</th>\n",
              "      <td>0.000000</td>\n",
              "      <td>0.000000</td>\n",
              "      <td>18.250000</td>\n",
              "      <td>18.800000</td>\n",
              "    </tr>\n",
              "    <tr>\n",
              "      <th>25%</th>\n",
              "      <td>0.000000</td>\n",
              "      <td>9.000000</td>\n",
              "      <td>35.500000</td>\n",
              "      <td>401.450000</td>\n",
              "    </tr>\n",
              "    <tr>\n",
              "      <th>50%</th>\n",
              "      <td>0.000000</td>\n",
              "      <td>29.000000</td>\n",
              "      <td>70.350000</td>\n",
              "      <td>1397.475000</td>\n",
              "    </tr>\n",
              "    <tr>\n",
              "      <th>75%</th>\n",
              "      <td>0.000000</td>\n",
              "      <td>55.000000</td>\n",
              "      <td>89.850000</td>\n",
              "      <td>3794.737500</td>\n",
              "    </tr>\n",
              "    <tr>\n",
              "      <th>max</th>\n",
              "      <td>1.000000</td>\n",
              "      <td>72.000000</td>\n",
              "      <td>118.750000</td>\n",
              "      <td>8684.800000</td>\n",
              "    </tr>\n",
              "  </tbody>\n",
              "</table>\n",
              "</div>"
            ],
            "text/plain": [
              "            antigo        posse  mensalidade  custos_totais\n",
              "count  7043.000000  7043.000000  7043.000000    7032.000000\n",
              "mean      0.162147    32.371149    64.761692    2283.300441\n",
              "std       0.368612    24.559481    30.090047    2266.771362\n",
              "min       0.000000     0.000000    18.250000      18.800000\n",
              "25%       0.000000     9.000000    35.500000     401.450000\n",
              "50%       0.000000    29.000000    70.350000    1397.475000\n",
              "75%       0.000000    55.000000    89.850000    3794.737500\n",
              "max       1.000000    72.000000   118.750000    8684.800000"
            ]
          },
          "metadata": {
            "tags": []
          },
          "execution_count": 15
        }
      ]
    },
    {
      "cell_type": "markdown",
      "metadata": {
        "id": "09de0a27"
      },
      "source": [
        "# 2.0 FEATURE ENGINEERING"
      ],
      "id": "09de0a27"
    },
    {
      "cell_type": "code",
      "metadata": {
        "id": "7402fb6d"
      },
      "source": [
        "df2 = df1.copy()"
      ],
      "id": "7402fb6d",
      "execution_count": null,
      "outputs": []
    },
    {
      "cell_type": "code",
      "metadata": {
        "id": "7af43fd0"
      },
      "source": [
        "novos_valores = {'Yes':1, 'No':0}\n",
        "df2['churn'] = df2['churn'].map(novos_valores)\n",
        "df2['dependentes'] = df2['dependentes'].map(novos_valores)\n",
        "df2['suporte_tecnico'] = df2['suporte_tecnico'].map(novos_valores)"
      ],
      "id": "7af43fd0",
      "execution_count": null,
      "outputs": []
    },
    {
      "cell_type": "code",
      "metadata": {
        "colab": {
          "base_uri": "https://localhost:8080/",
          "height": 307
        },
        "id": "0dcb345c",
        "outputId": "e18a4eb0-1bc2-4e23-9263-c84fda8df708"
      },
      "source": [
        "df2.head()"
      ],
      "id": "0dcb345c",
      "execution_count": null,
      "outputs": [
        {
          "output_type": "execute_result",
          "data": {
            "text/html": [
              "<div>\n",
              "<style scoped>\n",
              "    .dataframe tbody tr th:only-of-type {\n",
              "        vertical-align: middle;\n",
              "    }\n",
              "\n",
              "    .dataframe tbody tr th {\n",
              "        vertical-align: top;\n",
              "    }\n",
              "\n",
              "    .dataframe thead th {\n",
              "        text-align: right;\n",
              "    }\n",
              "</style>\n",
              "<table border=\"1\" class=\"dataframe\">\n",
              "  <thead>\n",
              "    <tr style=\"text-align: right;\">\n",
              "      <th></th>\n",
              "      <th>id</th>\n",
              "      <th>genero</th>\n",
              "      <th>antigo</th>\n",
              "      <th>parceiro</th>\n",
              "      <th>dependentes</th>\n",
              "      <th>posse</th>\n",
              "      <th>servico_telefone</th>\n",
              "      <th>linhas_multiplas</th>\n",
              "      <th>servico_internet</th>\n",
              "      <th>seguranca_online</th>\n",
              "      <th>backup_online</th>\n",
              "      <th>protecao_dispositivo</th>\n",
              "      <th>suporte_tecnico</th>\n",
              "      <th>streaming_tv</th>\n",
              "      <th>streaming_video</th>\n",
              "      <th>contrato</th>\n",
              "      <th>faturamento_sem_papel</th>\n",
              "      <th>metodo_pagamento</th>\n",
              "      <th>mensalidade</th>\n",
              "      <th>custos_totais</th>\n",
              "      <th>churn</th>\n",
              "    </tr>\n",
              "  </thead>\n",
              "  <tbody>\n",
              "    <tr>\n",
              "      <th>0</th>\n",
              "      <td>7590-VHVEG</td>\n",
              "      <td>Female</td>\n",
              "      <td>0</td>\n",
              "      <td>Yes</td>\n",
              "      <td>0</td>\n",
              "      <td>1</td>\n",
              "      <td>No</td>\n",
              "      <td>No phone service</td>\n",
              "      <td>DSL</td>\n",
              "      <td>No</td>\n",
              "      <td>Yes</td>\n",
              "      <td>No</td>\n",
              "      <td>0.0</td>\n",
              "      <td>No</td>\n",
              "      <td>No</td>\n",
              "      <td>Month-to-month</td>\n",
              "      <td>Yes</td>\n",
              "      <td>Electronic check</td>\n",
              "      <td>29.85</td>\n",
              "      <td>29.85</td>\n",
              "      <td>0</td>\n",
              "    </tr>\n",
              "    <tr>\n",
              "      <th>1</th>\n",
              "      <td>5575-GNVDE</td>\n",
              "      <td>Male</td>\n",
              "      <td>0</td>\n",
              "      <td>No</td>\n",
              "      <td>0</td>\n",
              "      <td>34</td>\n",
              "      <td>Yes</td>\n",
              "      <td>No</td>\n",
              "      <td>DSL</td>\n",
              "      <td>Yes</td>\n",
              "      <td>No</td>\n",
              "      <td>Yes</td>\n",
              "      <td>0.0</td>\n",
              "      <td>No</td>\n",
              "      <td>No</td>\n",
              "      <td>One year</td>\n",
              "      <td>No</td>\n",
              "      <td>Mailed check</td>\n",
              "      <td>56.95</td>\n",
              "      <td>1889.50</td>\n",
              "      <td>0</td>\n",
              "    </tr>\n",
              "    <tr>\n",
              "      <th>2</th>\n",
              "      <td>3668-QPYBK</td>\n",
              "      <td>Male</td>\n",
              "      <td>0</td>\n",
              "      <td>No</td>\n",
              "      <td>0</td>\n",
              "      <td>2</td>\n",
              "      <td>Yes</td>\n",
              "      <td>No</td>\n",
              "      <td>DSL</td>\n",
              "      <td>Yes</td>\n",
              "      <td>Yes</td>\n",
              "      <td>No</td>\n",
              "      <td>0.0</td>\n",
              "      <td>No</td>\n",
              "      <td>No</td>\n",
              "      <td>Month-to-month</td>\n",
              "      <td>Yes</td>\n",
              "      <td>Mailed check</td>\n",
              "      <td>53.85</td>\n",
              "      <td>108.15</td>\n",
              "      <td>1</td>\n",
              "    </tr>\n",
              "    <tr>\n",
              "      <th>3</th>\n",
              "      <td>7795-CFOCW</td>\n",
              "      <td>Male</td>\n",
              "      <td>0</td>\n",
              "      <td>No</td>\n",
              "      <td>0</td>\n",
              "      <td>45</td>\n",
              "      <td>No</td>\n",
              "      <td>No phone service</td>\n",
              "      <td>DSL</td>\n",
              "      <td>Yes</td>\n",
              "      <td>No</td>\n",
              "      <td>Yes</td>\n",
              "      <td>1.0</td>\n",
              "      <td>No</td>\n",
              "      <td>No</td>\n",
              "      <td>One year</td>\n",
              "      <td>No</td>\n",
              "      <td>Bank transfer (automatic)</td>\n",
              "      <td>42.30</td>\n",
              "      <td>1840.75</td>\n",
              "      <td>0</td>\n",
              "    </tr>\n",
              "    <tr>\n",
              "      <th>4</th>\n",
              "      <td>9237-HQITU</td>\n",
              "      <td>Female</td>\n",
              "      <td>0</td>\n",
              "      <td>No</td>\n",
              "      <td>0</td>\n",
              "      <td>2</td>\n",
              "      <td>Yes</td>\n",
              "      <td>No</td>\n",
              "      <td>Fiber optic</td>\n",
              "      <td>No</td>\n",
              "      <td>No</td>\n",
              "      <td>No</td>\n",
              "      <td>0.0</td>\n",
              "      <td>No</td>\n",
              "      <td>No</td>\n",
              "      <td>Month-to-month</td>\n",
              "      <td>Yes</td>\n",
              "      <td>Electronic check</td>\n",
              "      <td>70.70</td>\n",
              "      <td>151.65</td>\n",
              "      <td>1</td>\n",
              "    </tr>\n",
              "  </tbody>\n",
              "</table>\n",
              "</div>"
            ],
            "text/plain": [
              "           id  genero  antigo  ... mensalidade  custos_totais  churn\n",
              "0  7590-VHVEG  Female       0  ...       29.85          29.85      0\n",
              "1  5575-GNVDE    Male       0  ...       56.95        1889.50      0\n",
              "2  3668-QPYBK    Male       0  ...       53.85         108.15      1\n",
              "3  7795-CFOCW    Male       0  ...       42.30        1840.75      0\n",
              "4  9237-HQITU  Female       0  ...       70.70         151.65      1\n",
              "\n",
              "[5 rows x 21 columns]"
            ]
          },
          "metadata": {
            "tags": []
          },
          "execution_count": 18
        }
      ]
    },
    {
      "cell_type": "markdown",
      "metadata": {
        "id": "f2ed4ca3"
      },
      "source": [
        "# 3.0 FILTRAGEM DE VARIAVEIS"
      ],
      "id": "f2ed4ca3"
    },
    {
      "cell_type": "code",
      "metadata": {
        "id": "5881b7c1"
      },
      "source": [
        "df3 = df2.copy()"
      ],
      "id": "5881b7c1",
      "execution_count": null,
      "outputs": []
    },
    {
      "cell_type": "code",
      "metadata": {
        "id": "1e902e85"
      },
      "source": [
        "df3.drop(\"id\", axis=1, inplace=True)"
      ],
      "id": "1e902e85",
      "execution_count": null,
      "outputs": []
    },
    {
      "cell_type": "code",
      "metadata": {
        "colab": {
          "base_uri": "https://localhost:8080/",
          "height": 290
        },
        "id": "ea335cb9",
        "outputId": "0efb339a-87d6-43e3-e190-e88fd0527fd2"
      },
      "source": [
        "df3.head()"
      ],
      "id": "ea335cb9",
      "execution_count": null,
      "outputs": [
        {
          "output_type": "execute_result",
          "data": {
            "text/html": [
              "<div>\n",
              "<style scoped>\n",
              "    .dataframe tbody tr th:only-of-type {\n",
              "        vertical-align: middle;\n",
              "    }\n",
              "\n",
              "    .dataframe tbody tr th {\n",
              "        vertical-align: top;\n",
              "    }\n",
              "\n",
              "    .dataframe thead th {\n",
              "        text-align: right;\n",
              "    }\n",
              "</style>\n",
              "<table border=\"1\" class=\"dataframe\">\n",
              "  <thead>\n",
              "    <tr style=\"text-align: right;\">\n",
              "      <th></th>\n",
              "      <th>genero</th>\n",
              "      <th>antigo</th>\n",
              "      <th>parceiro</th>\n",
              "      <th>dependentes</th>\n",
              "      <th>posse</th>\n",
              "      <th>servico_telefone</th>\n",
              "      <th>linhas_multiplas</th>\n",
              "      <th>servico_internet</th>\n",
              "      <th>seguranca_online</th>\n",
              "      <th>backup_online</th>\n",
              "      <th>protecao_dispositivo</th>\n",
              "      <th>suporte_tecnico</th>\n",
              "      <th>streaming_tv</th>\n",
              "      <th>streaming_video</th>\n",
              "      <th>contrato</th>\n",
              "      <th>faturamento_sem_papel</th>\n",
              "      <th>metodo_pagamento</th>\n",
              "      <th>mensalidade</th>\n",
              "      <th>custos_totais</th>\n",
              "      <th>churn</th>\n",
              "    </tr>\n",
              "  </thead>\n",
              "  <tbody>\n",
              "    <tr>\n",
              "      <th>0</th>\n",
              "      <td>Female</td>\n",
              "      <td>0</td>\n",
              "      <td>Yes</td>\n",
              "      <td>0</td>\n",
              "      <td>1</td>\n",
              "      <td>No</td>\n",
              "      <td>No phone service</td>\n",
              "      <td>DSL</td>\n",
              "      <td>No</td>\n",
              "      <td>Yes</td>\n",
              "      <td>No</td>\n",
              "      <td>0.0</td>\n",
              "      <td>No</td>\n",
              "      <td>No</td>\n",
              "      <td>Month-to-month</td>\n",
              "      <td>Yes</td>\n",
              "      <td>Electronic check</td>\n",
              "      <td>29.85</td>\n",
              "      <td>29.85</td>\n",
              "      <td>0</td>\n",
              "    </tr>\n",
              "    <tr>\n",
              "      <th>1</th>\n",
              "      <td>Male</td>\n",
              "      <td>0</td>\n",
              "      <td>No</td>\n",
              "      <td>0</td>\n",
              "      <td>34</td>\n",
              "      <td>Yes</td>\n",
              "      <td>No</td>\n",
              "      <td>DSL</td>\n",
              "      <td>Yes</td>\n",
              "      <td>No</td>\n",
              "      <td>Yes</td>\n",
              "      <td>0.0</td>\n",
              "      <td>No</td>\n",
              "      <td>No</td>\n",
              "      <td>One year</td>\n",
              "      <td>No</td>\n",
              "      <td>Mailed check</td>\n",
              "      <td>56.95</td>\n",
              "      <td>1889.50</td>\n",
              "      <td>0</td>\n",
              "    </tr>\n",
              "    <tr>\n",
              "      <th>2</th>\n",
              "      <td>Male</td>\n",
              "      <td>0</td>\n",
              "      <td>No</td>\n",
              "      <td>0</td>\n",
              "      <td>2</td>\n",
              "      <td>Yes</td>\n",
              "      <td>No</td>\n",
              "      <td>DSL</td>\n",
              "      <td>Yes</td>\n",
              "      <td>Yes</td>\n",
              "      <td>No</td>\n",
              "      <td>0.0</td>\n",
              "      <td>No</td>\n",
              "      <td>No</td>\n",
              "      <td>Month-to-month</td>\n",
              "      <td>Yes</td>\n",
              "      <td>Mailed check</td>\n",
              "      <td>53.85</td>\n",
              "      <td>108.15</td>\n",
              "      <td>1</td>\n",
              "    </tr>\n",
              "    <tr>\n",
              "      <th>3</th>\n",
              "      <td>Male</td>\n",
              "      <td>0</td>\n",
              "      <td>No</td>\n",
              "      <td>0</td>\n",
              "      <td>45</td>\n",
              "      <td>No</td>\n",
              "      <td>No phone service</td>\n",
              "      <td>DSL</td>\n",
              "      <td>Yes</td>\n",
              "      <td>No</td>\n",
              "      <td>Yes</td>\n",
              "      <td>1.0</td>\n",
              "      <td>No</td>\n",
              "      <td>No</td>\n",
              "      <td>One year</td>\n",
              "      <td>No</td>\n",
              "      <td>Bank transfer (automatic)</td>\n",
              "      <td>42.30</td>\n",
              "      <td>1840.75</td>\n",
              "      <td>0</td>\n",
              "    </tr>\n",
              "    <tr>\n",
              "      <th>4</th>\n",
              "      <td>Female</td>\n",
              "      <td>0</td>\n",
              "      <td>No</td>\n",
              "      <td>0</td>\n",
              "      <td>2</td>\n",
              "      <td>Yes</td>\n",
              "      <td>No</td>\n",
              "      <td>Fiber optic</td>\n",
              "      <td>No</td>\n",
              "      <td>No</td>\n",
              "      <td>No</td>\n",
              "      <td>0.0</td>\n",
              "      <td>No</td>\n",
              "      <td>No</td>\n",
              "      <td>Month-to-month</td>\n",
              "      <td>Yes</td>\n",
              "      <td>Electronic check</td>\n",
              "      <td>70.70</td>\n",
              "      <td>151.65</td>\n",
              "      <td>1</td>\n",
              "    </tr>\n",
              "  </tbody>\n",
              "</table>\n",
              "</div>"
            ],
            "text/plain": [
              "   genero  antigo parceiro  ...  mensalidade  custos_totais churn\n",
              "0  Female       0      Yes  ...        29.85          29.85     0\n",
              "1    Male       0       No  ...        56.95        1889.50     0\n",
              "2    Male       0       No  ...        53.85         108.15     1\n",
              "3    Male       0       No  ...        42.30        1840.75     0\n",
              "4  Female       0       No  ...        70.70         151.65     1\n",
              "\n",
              "[5 rows x 20 columns]"
            ]
          },
          "metadata": {
            "tags": []
          },
          "execution_count": 21
        }
      ]
    },
    {
      "cell_type": "markdown",
      "metadata": {
        "id": "95cb451c"
      },
      "source": [
        "# 4.0 Análise Exploratória de Dados (EDA)"
      ],
      "id": "95cb451c"
    },
    {
      "cell_type": "code",
      "metadata": {
        "id": "9dec1037"
      },
      "source": [
        "df4 = df3.copy()"
      ],
      "id": "9dec1037",
      "execution_count": null,
      "outputs": []
    },
    {
      "cell_type": "markdown",
      "metadata": {
        "id": "cb1e26cc"
      },
      "source": [
        "## 4.1. Análise Univariada"
      ],
      "id": "cb1e26cc"
    },
    {
      "cell_type": "markdown",
      "metadata": {
        "id": "a8b270c8"
      },
      "source": [
        "### 4.1.1. Variável Resposta"
      ],
      "id": "a8b270c8"
    },
    {
      "cell_type": "code",
      "metadata": {
        "colab": {
          "base_uri": "https://localhost:8080/",
          "height": 279
        },
        "id": "0c0b9e57",
        "outputId": "910dca80-2a97-4148-e4cc-7dd068dbdfd7"
      },
      "source": [
        "sns.countplot(df4['churn']);"
      ],
      "id": "0c0b9e57",
      "execution_count": null,
      "outputs": [
        {
          "output_type": "display_data",
          "data": {
            "image/png": "[encoded data removed]",
            "text/plain": [
              "<Figure size 432x288 with 1 Axes>"
            ]
          },
          "metadata": {
            "tags": [],
            "needs_background": "light"
          }
        }
      ]
    },
    {
      "cell_type": "markdown",
      "metadata": {
        "id": "c305995c"
      },
      "source": [
        "### 4.1.2. Variável Numérica"
      ],
      "id": "c305995c"
    },
    {
      "cell_type": "code",
      "metadata": {
        "colab": {
          "base_uri": "https://localhost:8080/",
          "height": 444
        },
        "id": "f88c65f6",
        "outputId": "acbead2f-56d4-445e-b128-9dcb69844356"
      },
      "source": [
        "num_attributes.hist(bins=25, figsize=(10, 7));"
      ],
      "id": "f88c65f6",
      "execution_count": null,
      "outputs": [
        {
          "output_type": "display_data",
          "data": {
            "image/png": "[encoded data removed]",
            "text/plain": [
              "<Figure size 720x504 with 4 Axes>"
            ]
          },
          "metadata": {
            "tags": [],
            "needs_background": "light"
          }
        }
      ]
    },
    {
      "cell_type": "markdown",
      "metadata": {
        "id": "11af40bd"
      },
      "source": [
        "### 4.1.3. Variáveis Categóricas"
      ],
      "id": "11af40bd"
    },
    {
      "cell_type": "code",
      "metadata": {
        "colab": {
          "base_uri": "https://localhost:8080/"
        },
        "id": "5a228bcb",
        "outputId": "e597333f-0406-45e7-e24c-107f57b40325"
      },
      "source": [
        "cat_attributes.columns"
      ],
      "id": "5a228bcb",
      "execution_count": null,
      "outputs": [
        {
          "output_type": "execute_result",
          "data": {
            "text/plain": [
              "Index(['id', 'genero', 'parceiro', 'dependentes', 'servico_telefone',\n",
              "       'linhas_multiplas', 'servico_internet', 'seguranca_online',\n",
              "       'backup_online', 'protecao_dispositivo', 'suporte_tecnico',\n",
              "       'streaming_tv', 'streaming_video', 'contrato', 'faturamento_sem_papel',\n",
              "       'metodo_pagamento', 'churn'],\n",
              "      dtype='object')"
            ]
          },
          "metadata": {
            "tags": []
          },
          "execution_count": 25
        }
      ]
    },
    {
      "cell_type": "code",
      "metadata": {
        "colab": {
          "base_uri": "https://localhost:8080/",
          "height": 498
        },
        "id": "73e36795",
        "outputId": "59044f55-76ba-46ee-8fb6-a2cf4a6f525f"
      },
      "source": [
        "pylab.rcParams['figure.figsize'] = (15.0, 8.0)\n",
        "plt.subplot(1, 2, 1)\n",
        "sns.countplot(df4['servico_internet']);\n",
        "\n",
        "plt.subplot(1, 2, 2)\n",
        "sns.countplot(df4['genero']);"
      ],
      "id": "73e36795",
      "execution_count": null,
      "outputs": [
        {
          "output_type": "display_data",
          "data": {
            "image/png": "[encoded data removed]",
            "text/plain": [
              "<Figure size 1080x576 with 2 Axes>"
            ]
          },
          "metadata": {
            "tags": [],
            "needs_background": "light"
          }
        }
      ]
    },
    {
      "cell_type": "markdown",
      "metadata": {
        "id": "c50f5e3b"
      },
      "source": [
        "## 4.2. Análise Bivariada"
      ],
      "id": "c50f5e3b"
    },
    {
      "cell_type": "code",
      "metadata": {
        "colab": {
          "base_uri": "https://localhost:8080/",
          "height": 147
        },
        "id": "4cf041d2",
        "outputId": "e9235f4e-5c6e-4333-a6b9-1849a9647204"
      },
      "source": [
        "df4.head(2)"
      ],
      "id": "4cf041d2",
      "execution_count": null,
      "outputs": [
        {
          "output_type": "execute_result",
          "data": {
            "text/html": [
              "<div>\n",
              "<style scoped>\n",
              "    .dataframe tbody tr th:only-of-type {\n",
              "        vertical-align: middle;\n",
              "    }\n",
              "\n",
              "    .dataframe tbody tr th {\n",
              "        vertical-align: top;\n",
              "    }\n",
              "\n",
              "    .dataframe thead th {\n",
              "        text-align: right;\n",
              "    }\n",
              "</style>\n",
              "<table border=\"1\" class=\"dataframe\">\n",
              "  <thead>\n",
              "    <tr style=\"text-align: right;\">\n",
              "      <th></th>\n",
              "      <th>genero</th>\n",
              "      <th>antigo</th>\n",
              "      <th>parceiro</th>\n",
              "      <th>dependentes</th>\n",
              "      <th>posse</th>\n",
              "      <th>servico_telefone</th>\n",
              "      <th>linhas_multiplas</th>\n",
              "      <th>servico_internet</th>\n",
              "      <th>seguranca_online</th>\n",
              "      <th>backup_online</th>\n",
              "      <th>protecao_dispositivo</th>\n",
              "      <th>suporte_tecnico</th>\n",
              "      <th>streaming_tv</th>\n",
              "      <th>streaming_video</th>\n",
              "      <th>contrato</th>\n",
              "      <th>faturamento_sem_papel</th>\n",
              "      <th>metodo_pagamento</th>\n",
              "      <th>mensalidade</th>\n",
              "      <th>custos_totais</th>\n",
              "      <th>churn</th>\n",
              "    </tr>\n",
              "  </thead>\n",
              "  <tbody>\n",
              "    <tr>\n",
              "      <th>0</th>\n",
              "      <td>Female</td>\n",
              "      <td>0</td>\n",
              "      <td>Yes</td>\n",
              "      <td>0</td>\n",
              "      <td>1</td>\n",
              "      <td>No</td>\n",
              "      <td>No phone service</td>\n",
              "      <td>DSL</td>\n",
              "      <td>No</td>\n",
              "      <td>Yes</td>\n",
              "      <td>No</td>\n",
              "      <td>0.0</td>\n",
              "      <td>No</td>\n",
              "      <td>No</td>\n",
              "      <td>Month-to-month</td>\n",
              "      <td>Yes</td>\n",
              "      <td>Electronic check</td>\n",
              "      <td>29.85</td>\n",
              "      <td>29.85</td>\n",
              "      <td>0</td>\n",
              "    </tr>\n",
              "    <tr>\n",
              "      <th>1</th>\n",
              "      <td>Male</td>\n",
              "      <td>0</td>\n",
              "      <td>No</td>\n",
              "      <td>0</td>\n",
              "      <td>34</td>\n",
              "      <td>Yes</td>\n",
              "      <td>No</td>\n",
              "      <td>DSL</td>\n",
              "      <td>Yes</td>\n",
              "      <td>No</td>\n",
              "      <td>Yes</td>\n",
              "      <td>0.0</td>\n",
              "      <td>No</td>\n",
              "      <td>No</td>\n",
              "      <td>One year</td>\n",
              "      <td>No</td>\n",
              "      <td>Mailed check</td>\n",
              "      <td>56.95</td>\n",
              "      <td>1889.50</td>\n",
              "      <td>0</td>\n",
              "    </tr>\n",
              "  </tbody>\n",
              "</table>\n",
              "</div>"
            ],
            "text/plain": [
              "   genero  antigo parceiro  ...  mensalidade  custos_totais churn\n",
              "0  Female       0      Yes  ...        29.85          29.85     0\n",
              "1    Male       0       No  ...        56.95        1889.50     0\n",
              "\n",
              "[2 rows x 20 columns]"
            ]
          },
          "metadata": {
            "tags": []
          },
          "execution_count": 27
        }
      ]
    },
    {
      "cell_type": "markdown",
      "metadata": {
        "id": "91726a5c"
      },
      "source": [
        "#### P1. Deveria haver mais churns entre os homens.\n",
        "**Inconclusivo,** a maioria de rotatividade é de clientes do sexo feminino"
      ],
      "id": "91726a5c"
    },
    {
      "cell_type": "code",
      "metadata": {
        "colab": {
          "base_uri": "https://localhost:8080/",
          "height": 497
        },
        "id": "cfffe5ab",
        "outputId": "182d9284-7b52-46bc-f89d-26f6d37ab49e"
      },
      "source": [
        "aux = df4[(df4['genero'] != '0') & (df4['churn'] > 0)]\n",
        "pylab.rcParams['figure.figsize'] = (15.0, 8.0)\n",
        "sns.barplot(x='genero', y='churn', data=df4 );"
      ],
      "id": "cfffe5ab",
      "execution_count": null,
      "outputs": [
        {
          "output_type": "display_data",
          "data": {
            "image/png": "[encoded data removed]",
            "text/plain": [
              "<Figure size 1080x576 with 1 Axes>"
            ]
          },
          "metadata": {
            "tags": [],
            "needs_background": "light"
          }
        }
      ]
    },
    {
      "cell_type": "markdown",
      "metadata": {
        "id": "12028819"
      },
      "source": [
        "#### P2. Clientes mais antigos deveriam ter menos churns.\n",
        "**Verdade,** é mais comum os clientes novos tender a rotatividade."
      ],
      "id": "12028819"
    },
    {
      "cell_type": "code",
      "metadata": {
        "colab": {
          "base_uri": "https://localhost:8080/",
          "height": 497
        },
        "id": "03f2d63c",
        "outputId": "976f87b1-0ad6-4dad-e864-70348e212423"
      },
      "source": [
        "sns.barplot(x='antigo', y='churn', data=df4 );"
      ],
      "id": "03f2d63c",
      "execution_count": null,
      "outputs": [
        {
          "output_type": "display_data",
          "data": {
            "image/png": "[encoded data removed]",
            "text/plain": [
              "<Figure size 1080x576 with 1 Axes>"
            ]
          },
          "metadata": {
            "tags": [],
            "needs_background": "light"
          }
        }
      ]
    },
    {
      "cell_type": "markdown",
      "metadata": {
        "id": "23102a72"
      },
      "source": [
        "#### P3. As mensalidades devem ser maior para quem utiliza streaming_video\n",
        "**Verdade,**, as mensalidades são maiores para utilizadores de streaming de vídeos"
      ],
      "id": "23102a72"
    },
    {
      "cell_type": "code",
      "metadata": {
        "colab": {
          "base_uri": "https://localhost:8080/",
          "height": 236
        },
        "id": "cd9c426e",
        "outputId": "b3f4780c-e0bb-450b-e206-bcbbddb49ba1"
      },
      "source": [
        "tamanho(14, 7)\n",
        "plt.subplot(2, 2, 1)\n",
        "sns.barplot(x='streaming_video', y='mensalidade', data=df4);\n",
        "\n",
        "plt.subplot(2, 2, 2)\n",
        "sns.boxplot(x='mensalidade', y='streaming_video', data=df4);"
      ],
      "id": "cd9c426e",
      "execution_count": null,
      "outputs": [
        {
          "output_type": "display_data",
          "data": {
            "image/png": "[encoded data removed]",
            "text/plain": [
              "<Figure size 1008x504 with 2 Axes>"
            ]
          },
          "metadata": {
            "tags": [],
            "needs_background": "light"
          }
        }
      ]
    },
    {
      "cell_type": "markdown",
      "metadata": {
        "id": "50dfb0d7"
      },
      "source": [
        "#### P4. Quanto mais antigo o cliente for, menor deveria ser os custos totais do plano.\n",
        "**Verdade,** os custos abaixam conforme ao passar do tempo"
      ],
      "id": "50dfb0d7"
    },
    {
      "cell_type": "code",
      "metadata": {
        "colab": {
          "base_uri": "https://localhost:8080/",
          "height": 453
        },
        "id": "3ffb1857",
        "outputId": "778c54c2-a3f9-48bc-d477-eb907ec10fb0"
      },
      "source": [
        "aux1 = df4[['antigo', 'custos_totais']].groupby('antigo').sum().reset_index()\n",
        "sns.barplot( x='antigo', y='custos_totais', data=aux1);"
      ],
      "id": "3ffb1857",
      "execution_count": null,
      "outputs": [
        {
          "output_type": "display_data",
          "data": {
            "image/png": "[encoded data removed]",
            "text/plain": [
              "<Figure size 1008x504 with 1 Axes>"
            ]
          },
          "metadata": {
            "tags": [],
            "needs_background": "light"
          }
        }
      ]
    },
    {
      "cell_type": "markdown",
      "metadata": {
        "id": "cb4274dd"
      },
      "source": [
        "#### P5. Se tiver dependentes, a tendência é uma menor rotação.\n",
        "**Verdade,** quando não se tem dependentes, o churn é maior"
      ],
      "id": "cb4274dd"
    },
    {
      "cell_type": "code",
      "metadata": {
        "colab": {
          "base_uri": "https://localhost:8080/",
          "height": 442
        },
        "id": "2c6cde74",
        "outputId": "3c3f4659-10a0-4999-81b0-8df73a65ac0a"
      },
      "source": [
        "sns.barplot(x='churn', y='dependentes', data=df4);"
      ],
      "id": "2c6cde74",
      "execution_count": null,
      "outputs": [
        {
          "output_type": "display_data",
          "data": {
            "image/png": "[encoded data removed]",
            "text/plain": [
              "<Figure size 1008x504 with 1 Axes>"
            ]
          },
          "metadata": {
            "tags": [],
            "needs_background": "light"
          }
        }
      ]
    },
    {
      "cell_type": "markdown",
      "metadata": {
        "id": "1ab9ad5a"
      },
      "source": [
        "#### P6. Se o plano do assinante possuir suporte técnico, a tendência é que o churn aconteça com menos frequência.\n",
        "**Verdade,** a rotatividade maior é para quem não possui suporte técnico no seu plano."
      ],
      "id": "1ab9ad5a"
    },
    {
      "cell_type": "code",
      "metadata": {
        "colab": {
          "base_uri": "https://localhost:8080/",
          "height": 446
        },
        "id": "29a1e32f",
        "outputId": "f79f6bbd-0771-40c9-c3ce-2b2dc541cd53"
      },
      "source": [
        "sns.barplot(x='churn', y='suporte_tecnico', data=df4);"
      ],
      "id": "29a1e32f",
      "execution_count": null,
      "outputs": [
        {
          "output_type": "display_data",
          "data": {
            "image/png": "[encoded data removed]",
            "text/plain": [
              "<Figure size 1008x504 with 1 Axes>"
            ]
          },
          "metadata": {
            "tags": [],
            "needs_background": "light"
          }
        }
      ]
    },
    {
      "cell_type": "markdown",
      "metadata": {
        "id": "95f84f1e"
      },
      "source": [
        "#### P7. Se o plano do assinante possuir backup online, a tendência é que o churn aconteça com menos frequência."
      ],
      "id": "95f84f1e"
    },
    {
      "cell_type": "code",
      "metadata": {
        "colab": {
          "base_uri": "https://localhost:8080/",
          "height": 443
        },
        "id": "f545b894",
        "outputId": "69b4d11a-daf1-4cb7-a0f1-78b295676f4f"
      },
      "source": [
        "sns.barplot(x='backup_online', y='churn', data=df4);"
      ],
      "id": "f545b894",
      "execution_count": null,
      "outputs": [
        {
          "output_type": "display_data",
          "data": {
            "image/png": "[encoded data removed]",
            "text/plain": [
              "<Figure size 1008x504 with 1 Axes>"
            ]
          },
          "metadata": {
            "tags": [],
            "needs_background": "light"
          }
        }
      ]
    },
    {
      "cell_type": "markdown",
      "metadata": {
        "id": "b966ce68"
      },
      "source": [
        "## 4.3. Análise Multivariada"
      ],
      "id": "b966ce68"
    },
    {
      "cell_type": "markdown",
      "metadata": {
        "id": "e929b309"
      },
      "source": [
        "### 4.3.1. Atributos Numéricos"
      ],
      "id": "e929b309"
    },
    {
      "cell_type": "code",
      "metadata": {
        "colab": {
          "base_uri": "https://localhost:8080/",
          "height": 433
        },
        "id": "56e1033f",
        "outputId": "acfe239a-30f5-4467-af38-44482ce20e2b"
      },
      "source": [
        "correlation = num_attributes.corr( method = 'pearson' )\n",
        "sns.heatmap( correlation, annot=True );"
      ],
      "id": "56e1033f",
      "execution_count": null,
      "outputs": [
        {
          "output_type": "display_data",
          "data": {
            "image/png": "[encoded data removed]",
            "text/plain": [
              "<Figure size 1008x504 with 2 Axes>"
            ]
          },
          "metadata": {
            "tags": [],
            "needs_background": "light"
          }
        }
      ]
    },
    {
      "cell_type": "markdown",
      "metadata": {
        "id": "766e0f28"
      },
      "source": [
        "# 5.0 PREPARAÇÃO DOS DADOS"
      ],
      "id": "766e0f28"
    },
    {
      "cell_type": "code",
      "metadata": {
        "id": "b015b09e"
      },
      "source": [
        "df5 = df4.copy()"
      ],
      "id": "b015b09e",
      "execution_count": null,
      "outputs": []
    },
    {
      "cell_type": "markdown",
      "metadata": {
        "id": "f9f64598"
      },
      "source": [
        "## 5.1. Encoding"
      ],
      "id": "f9f64598"
    },
    {
      "cell_type": "code",
      "metadata": {
        "id": "8a87149a"
      },
      "source": [
        "X_cat = cat_attributes[['genero', 'parceiro', 'servico_telefone', 'linhas_multiplas', 'seguranca_online',\n",
        "       'backup_online', 'protecao_dispositivo', 'suporte_tecnico', 'streaming_tv', 'streaming_video',\n",
        "        'contrato', 'faturamento_sem_papel', 'metodo_pagamento']]\n",
        "\n",
        "onn = OneHotEncoder()\n",
        "\n",
        "X_cat = onn.fit_transform(X_cat).toarray()\n",
        "\n",
        "X_cat = pd.DataFrame(X_cat)\n",
        "\n",
        "X_numerical = num_attributes[['antigo', 'mensalidade']]\n",
        "\n",
        "df = pd.concat([X_numerical, X_cat], axis=1)\n",
        "\n",
        "#Exclusão da coluna 'posse', pois ela estava explicando 0.83 da coluna custos_totais\n",
        "df5 = df5.drop(columns=['posse'], axis=1)"
      ],
      "id": "8a87149a",
      "execution_count": null,
      "outputs": []
    },
    {
      "cell_type": "code",
      "metadata": {
        "id": "5a587648"
      },
      "source": [
        "df_all = pd.concat([df, df5['churn']], axis=1)"
      ],
      "id": "5a587648",
      "execution_count": null,
      "outputs": []
    },
    {
      "cell_type": "markdown",
      "metadata": {
        "id": "9eaa2ff4"
      },
      "source": [
        "## 5.2. Balanceamento da variável resposta"
      ],
      "id": "9eaa2ff4"
    },
    {
      "cell_type": "code",
      "metadata": {
        "id": "dc3a4f33"
      },
      "source": [
        "x = df_all.iloc[:,0:40]\n",
        "y = df_all.iloc[:, -1]\n",
        "\n",
        "smote = SMOTE()\n",
        "\n",
        "x, y = smote.fit_resample(x,y)"
      ],
      "id": "dc3a4f33",
      "execution_count": null,
      "outputs": []
    },
    {
      "cell_type": "markdown",
      "metadata": {
        "id": "ec412b9c"
      },
      "source": [
        "## 5.3. Rescaling"
      ],
      "id": "ec412b9c"
    },
    {
      "cell_type": "code",
      "metadata": {
        "id": "fe301bbf"
      },
      "source": [
        "mms = MinMaxScaler()\n",
        "\n",
        "x = mms.fit_transform(x)"
      ],
      "id": "fe301bbf",
      "execution_count": null,
      "outputs": []
    },
    {
      "cell_type": "markdown",
      "metadata": {
        "id": "9f855d29"
      },
      "source": [
        "# 6.0 MODELO DE MACHINE LEARNING"
      ],
      "id": "9f855d29"
    },
    {
      "cell_type": "code",
      "metadata": {
        "id": "88ab9cdc"
      },
      "source": [
        "X_train, X_test, y_train, y_test = train_test_split(x, y, test_size=0.20)"
      ],
      "id": "88ab9cdc",
      "execution_count": null,
      "outputs": []
    },
    {
      "cell_type": "markdown",
      "metadata": {
        "id": "d0987bac"
      },
      "source": [
        "## 6.1. Random Forest"
      ],
      "id": "d0987bac"
    },
    {
      "cell_type": "code",
      "metadata": {
        "colab": {
          "base_uri": "https://localhost:8080/"
        },
        "id": "b5be4a25",
        "outputId": "977bcce1-6125-4cf6-e5e7-172584c7bea5"
      },
      "source": [
        "random_forest = RandomForestClassifier()\n",
        "random_forest.fit(X_train, y_train)"
      ],
      "id": "b5be4a25",
      "execution_count": null,
      "outputs": [
        {
          "output_type": "execute_result",
          "data": {
            "text/plain": [
              "RandomForestClassifier(bootstrap=True, ccp_alpha=0.0, class_weight=None,\n",
              "                       criterion='gini', max_depth=None, max_features='auto',\n",
              "                       max_leaf_nodes=None, max_samples=None,\n",
              "                       min_impurity_decrease=0.0, min_impurity_split=None,\n",
              "                       min_samples_leaf=1, min_samples_split=2,\n",
              "                       min_weight_fraction_leaf=0.0, n_estimators=100,\n",
              "                       n_jobs=None, oob_score=False, random_state=None,\n",
              "                       verbose=0, warm_start=False)"
            ]
          },
          "metadata": {
            "tags": []
          },
          "execution_count": 42
        }
      ]
    },
    {
      "cell_type": "code",
      "metadata": {
        "colab": {
          "base_uri": "https://localhost:8080/"
        },
        "id": "66c4d25c",
        "outputId": "f0beef0c-1053-493f-e6ec-ee453269b581"
      },
      "source": [
        "y_pred = random_forest.predict(X_test)\n",
        "accuracy_score(y_test, y_pred)*100"
      ],
      "id": "66c4d25c",
      "execution_count": null,
      "outputs": [
        {
          "output_type": "execute_result",
          "data": {
            "text/plain": [
              "100.0"
            ]
          },
          "metadata": {
            "tags": []
          },
          "execution_count": 43
        }
      ]
    },
    {
      "cell_type": "code",
      "metadata": {
        "colab": {
          "base_uri": "https://localhost:8080/"
        },
        "id": "4bf2ae3c",
        "outputId": "e0cb7ccd-efc2-45c4-b6e2-053aeb74ff08"
      },
      "source": [
        "print(classification_report(y_test, y_pred))"
      ],
      "id": "4bf2ae3c",
      "execution_count": null,
      "outputs": [
        {
          "output_type": "stream",
          "text": [
            "              precision    recall  f1-score   support\n",
            "\n",
            "           0       1.00      1.00      1.00      1031\n",
            "           1       1.00      1.00      1.00      1039\n",
            "\n",
            "    accuracy                           1.00      2070\n",
            "   macro avg       1.00      1.00      1.00      2070\n",
            "weighted avg       1.00      1.00      1.00      2070\n",
            "\n"
          ],
          "name": "stdout"
        }
      ]
    },
    {
      "cell_type": "markdown",
      "metadata": {
        "id": "d49ac789"
      },
      "source": [
        "## 6.2. Regressão Logística"
      ],
      "id": "d49ac789"
    },
    {
      "cell_type": "code",
      "metadata": {
        "colab": {
          "base_uri": "https://localhost:8080/"
        },
        "id": "ca5a7245",
        "outputId": "89b817e0-b007-4200-9f7a-5b814b57193c"
      },
      "source": [
        "regr_logist = LogisticRegression()\n",
        "regr_logist.fit(X_train, y_train)"
      ],
      "id": "ca5a7245",
      "execution_count": null,
      "outputs": [
        {
          "output_type": "execute_result",
          "data": {
            "text/plain": [
              "LogisticRegression(C=1.0, class_weight=None, dual=False, fit_intercept=True,\n",
              "                   intercept_scaling=1, l1_ratio=None, max_iter=100,\n",
              "                   multi_class='auto', n_jobs=None, penalty='l2',\n",
              "                   random_state=None, solver='lbfgs', tol=0.0001, verbose=0,\n",
              "                   warm_start=False)"
            ]
          },
          "metadata": {
            "tags": []
          },
          "execution_count": 45
        }
      ]
    },
    {
      "cell_type": "code",
      "metadata": {
        "colab": {
          "base_uri": "https://localhost:8080/"
        },
        "id": "63ec3749",
        "outputId": "c6b24fc2-fec5-4e21-980a-d4f8b858ab8e"
      },
      "source": [
        "y_pred = regr_logist.predict(X_test)\n",
        "accuracy_score(y_test, y_pred)*100"
      ],
      "id": "63ec3749",
      "execution_count": null,
      "outputs": [
        {
          "output_type": "execute_result",
          "data": {
            "text/plain": [
              "100.0"
            ]
          },
          "metadata": {
            "tags": []
          },
          "execution_count": 46
        }
      ]
    },
    {
      "cell_type": "code",
      "metadata": {
        "colab": {
          "base_uri": "https://localhost:8080/"
        },
        "id": "cb43b4e7",
        "outputId": "5720c6d7-44c9-44ac-eb98-0a0790f15fde"
      },
      "source": [
        "print(classification_report(y_test, y_pred))"
      ],
      "id": "cb43b4e7",
      "execution_count": null,
      "outputs": [
        {
          "output_type": "stream",
          "text": [
            "              precision    recall  f1-score   support\n",
            "\n",
            "           0       1.00      1.00      1.00      1031\n",
            "           1       1.00      1.00      1.00      1039\n",
            "\n",
            "    accuracy                           1.00      2070\n",
            "   macro avg       1.00      1.00      1.00      2070\n",
            "weighted avg       1.00      1.00      1.00      2070\n",
            "\n"
          ],
          "name": "stdout"
        }
      ]
    },
    {
      "cell_type": "markdown",
      "metadata": {
        "id": "5f3fa5f5"
      },
      "source": [
        "## 6.3. Decision Tree"
      ],
      "id": "5f3fa5f5"
    },
    {
      "cell_type": "code",
      "metadata": {
        "colab": {
          "base_uri": "https://localhost:8080/"
        },
        "id": "fddc1fd6",
        "outputId": "0e53f0a9-7045-4b08-ebe9-045761d75268"
      },
      "source": [
        "decision_tree = DecisionTreeClassifier()\n",
        "decision_tree.fit(X_train, y_train)"
      ],
      "id": "fddc1fd6",
      "execution_count": null,
      "outputs": [
        {
          "output_type": "execute_result",
          "data": {
            "text/plain": [
              "DecisionTreeClassifier(ccp_alpha=0.0, class_weight=None, criterion='gini',\n",
              "                       max_depth=None, max_features=None, max_leaf_nodes=None,\n",
              "                       min_impurity_decrease=0.0, min_impurity_split=None,\n",
              "                       min_samples_leaf=1, min_samples_split=2,\n",
              "                       min_weight_fraction_leaf=0.0, presort='deprecated',\n",
              "                       random_state=None, splitter='best')"
            ]
          },
          "metadata": {
            "tags": []
          },
          "execution_count": 48
        }
      ]
    },
    {
      "cell_type": "code",
      "metadata": {
        "colab": {
          "base_uri": "https://localhost:8080/"
        },
        "id": "f64118b8",
        "outputId": "1cdd73e3-c825-4e7b-afe0-acf5d3715b9b"
      },
      "source": [
        "y_pred = decision_tree.predict(X_test)\n",
        "accuracy_score(y_test, y_pred)*100"
      ],
      "id": "f64118b8",
      "execution_count": null,
      "outputs": [
        {
          "output_type": "execute_result",
          "data": {
            "text/plain": [
              "100.0"
            ]
          },
          "metadata": {
            "tags": []
          },
          "execution_count": 49
        }
      ]
    },
    {
      "cell_type": "code",
      "metadata": {
        "colab": {
          "base_uri": "https://localhost:8080/"
        },
        "id": "a4b4fc5b",
        "outputId": "0d3cb3b9-76f3-47ff-f5a1-ec7dd88dba17"
      },
      "source": [
        "print(classification_report(y_test, y_pred))"
      ],
      "id": "a4b4fc5b",
      "execution_count": null,
      "outputs": [
        {
          "output_type": "stream",
          "text": [
            "              precision    recall  f1-score   support\n",
            "\n",
            "           0       1.00      1.00      1.00      1031\n",
            "           1       1.00      1.00      1.00      1039\n",
            "\n",
            "    accuracy                           1.00      2070\n",
            "   macro avg       1.00      1.00      1.00      2070\n",
            "weighted avg       1.00      1.00      1.00      2070\n",
            "\n"
          ],
          "name": "stdout"
        }
      ]
    },
    {
      "cell_type": "markdown",
      "metadata": {
        "id": "1f0b42c2"
      },
      "source": [
        "## 6.4. SVM"
      ],
      "id": "1f0b42c2"
    },
    {
      "cell_type": "code",
      "metadata": {
        "colab": {
          "base_uri": "https://localhost:8080/"
        },
        "id": "bdd6374d",
        "outputId": "9d7bdcc7-d795-4a4a-b257-f58ebc71e6c2"
      },
      "source": [
        "svm = SVC()\n",
        "svm.fit(X_train, y_train)"
      ],
      "id": "bdd6374d",
      "execution_count": null,
      "outputs": [
        {
          "output_type": "execute_result",
          "data": {
            "text/plain": [
              "SVC(C=1.0, break_ties=False, cache_size=200, class_weight=None, coef0=0.0,\n",
              "    decision_function_shape='ovr', degree=3, gamma='scale', kernel='rbf',\n",
              "    max_iter=-1, probability=False, random_state=None, shrinking=True,\n",
              "    tol=0.001, verbose=False)"
            ]
          },
          "metadata": {
            "tags": []
          },
          "execution_count": 51
        }
      ]
    },
    {
      "cell_type": "code",
      "metadata": {
        "colab": {
          "base_uri": "https://localhost:8080/"
        },
        "id": "6da8f367",
        "outputId": "95ffa5d2-eaa5-49b5-fd4d-6f9ddd0875d2"
      },
      "source": [
        "y_pred = svm.predict(X_test)\n",
        "accuracy_score(y_test, y_pred)*100"
      ],
      "id": "6da8f367",
      "execution_count": null,
      "outputs": [
        {
          "output_type": "execute_result",
          "data": {
            "text/plain": [
              "100.0"
            ]
          },
          "metadata": {
            "tags": []
          },
          "execution_count": 52
        }
      ]
    },
    {
      "cell_type": "code",
      "metadata": {
        "colab": {
          "base_uri": "https://localhost:8080/"
        },
        "id": "45572d09",
        "outputId": "4768738e-235c-42cb-e962-e330926e2b46"
      },
      "source": [
        "print(classification_report(y_test, y_pred))"
      ],
      "id": "45572d09",
      "execution_count": null,
      "outputs": [
        {
          "output_type": "stream",
          "text": [
            "              precision    recall  f1-score   support\n",
            "\n",
            "           0       1.00      1.00      1.00      1031\n",
            "           1       1.00      1.00      1.00      1039\n",
            "\n",
            "    accuracy                           1.00      2070\n",
            "   macro avg       1.00      1.00      1.00      2070\n",
            "weighted avg       1.00      1.00      1.00      2070\n",
            "\n"
          ],
          "name": "stdout"
        }
      ]
    },
    {
      "cell_type": "markdown",
      "metadata": {
        "id": "592d998b"
      },
      "source": [
        "## 6.5. XGBoost"
      ],
      "id": "592d998b"
    },
    {
      "cell_type": "code",
      "metadata": {
        "colab": {
          "base_uri": "https://localhost:8080/"
        },
        "id": "3b6cf7d0",
        "outputId": "d4e35cb6-102f-4be2-e63a-fc4ef7f2e5e6"
      },
      "source": [
        "xgb = XGBClassifier()\n",
        "xgb.fit(X_train, y_train)"
      ],
      "id": "3b6cf7d0",
      "execution_count": null,
      "outputs": [
        {
          "output_type": "execute_result",
          "data": {
            "text/plain": [
              "XGBClassifier(base_score=0.5, booster='gbtree', colsample_bylevel=1,\n",
              "              colsample_bynode=1, colsample_bytree=1, gamma=0,\n",
              "              learning_rate=0.1, max_delta_step=0, max_depth=3,\n",
              "              min_child_weight=1, missing=None, n_estimators=100, n_jobs=1,\n",
              "              nthread=None, objective='binary:logistic', random_state=0,\n",
              "              reg_alpha=0, reg_lambda=1, scale_pos_weight=1, seed=None,\n",
              "              silent=None, subsample=1, verbosity=1)"
            ]
          },
          "metadata": {
            "tags": []
          },
          "execution_count": 54
        }
      ]
    },
    {
      "cell_type": "code",
      "metadata": {
        "colab": {
          "base_uri": "https://localhost:8080/"
        },
        "id": "87be0b20",
        "outputId": "bf4437b5-c3b0-4654-9edd-6163797e2162"
      },
      "source": [
        "y_pred = xgb.predict(X_test)\n",
        "accuracy_score(y_test, y_pred)*100"
      ],
      "id": "87be0b20",
      "execution_count": null,
      "outputs": [
        {
          "output_type": "execute_result",
          "data": {
            "text/plain": [
              "100.0"
            ]
          },
          "metadata": {
            "tags": []
          },
          "execution_count": 55
        }
      ]
    },
    {
      "cell_type": "code",
      "metadata": {
        "colab": {
          "base_uri": "https://localhost:8080/"
        },
        "id": "bb6f3a23",
        "outputId": "fc8ea526-11d4-420a-ee80-7011d3f789ea"
      },
      "source": [
        "print(classification_report(y_test, y_pred))"
      ],
      "id": "bb6f3a23",
      "execution_count": null,
      "outputs": [
        {
          "output_type": "stream",
          "text": [
            "              precision    recall  f1-score   support\n",
            "\n",
            "           0       1.00      1.00      1.00      1031\n",
            "           1       1.00      1.00      1.00      1039\n",
            "\n",
            "    accuracy                           1.00      2070\n",
            "   macro avg       1.00      1.00      1.00      2070\n",
            "weighted avg       1.00      1.00      1.00      2070\n",
            "\n"
          ],
          "name": "stdout"
        }
      ]
    },
    {
      "cell_type": "markdown",
      "metadata": {
        "id": "7nd31osFAW-o"
      },
      "source": [
        "#6.6. Rede Neural"
      ],
      "id": "7nd31osFAW-o"
    },
    {
      "cell_type": "code",
      "metadata": {
        "id": "l3C37GA6BIgB"
      },
      "source": [
        "# Rede Neural utilizando TensorFlow\n",
        "rede_neural = Sequential()\n",
        "\n",
        "rede_neural.add(Dense(units=26, activation='relu', input_shape=(39, )))\n",
        "rede_neural.add(Dense(units=26, activation='relu'))\n",
        "rede_neural.add(Dense(units=26, activation='relu'))\n",
        "rede_neural.add(Dense(units=1, activation='sigmoid'))"
      ],
      "id": "l3C37GA6BIgB",
      "execution_count": null,
      "outputs": []
    },
    {
      "cell_type": "code",
      "metadata": {
        "colab": {
          "base_uri": "https://localhost:8080/"
        },
        "id": "-rgHLr4vBrqb",
        "outputId": "98ed5e59-459b-4243-a9a4-1285eb6794d2"
      },
      "source": [
        "rede_neural.summary()"
      ],
      "id": "-rgHLr4vBrqb",
      "execution_count": null,
      "outputs": [
        {
          "output_type": "stream",
          "text": [
            "Model: \"sequential\"\n",
            "_________________________________________________________________\n",
            "Layer (type)                 Output Shape              Param #   \n",
            "=================================================================\n",
            "dense (Dense)                (None, 26)                1040      \n",
            "_________________________________________________________________\n",
            "dense_1 (Dense)              (None, 26)                702       \n",
            "_________________________________________________________________\n",
            "dense_2 (Dense)              (None, 26)                702       \n",
            "_________________________________________________________________\n",
            "dense_3 (Dense)              (None, 1)                 27        \n",
            "=================================================================\n",
            "Total params: 2,471\n",
            "Trainable params: 2,471\n",
            "Non-trainable params: 0\n",
            "_________________________________________________________________\n"
          ],
          "name": "stdout"
        }
      ]
    },
    {
      "cell_type": "code",
      "metadata": {
        "id": "Px74wdZMCKwJ"
      },
      "source": [
        "rede_neural.compile(optimizer='Adam', loss='binary_crossentropy', metrics=['accuracy'])"
      ],
      "id": "Px74wdZMCKwJ",
      "execution_count": null,
      "outputs": []
    },
    {
      "cell_type": "code",
      "metadata": {
        "colab": {
          "base_uri": "https://localhost:8080/"
        },
        "id": "l9_J3GTqCmjO",
        "outputId": "88e42930-5ddf-402a-aa90-3ae4a3b34850"
      },
      "source": [
        "rede_neural.fit(X_train, y_train, epochs=50)"
      ],
      "id": "l9_J3GTqCmjO",
      "execution_count": null,
      "outputs": [
        {
          "output_type": "stream",
          "text": [
            "Epoch 1/50\n",
            "259/259 [==============================] - 16s 2ms/step - loss: 0.3916 - accuracy: 0.8317\n",
            "Epoch 2/50\n",
            "259/259 [==============================] - 1s 2ms/step - loss: 0.0021 - accuracy: 1.0000\n",
            "Epoch 3/50\n",
            "259/259 [==============================] - 1s 2ms/step - loss: 4.1400e-04 - accuracy: 1.0000\n",
            "Epoch 4/50\n",
            "259/259 [==============================] - 1s 2ms/step - loss: 1.6872e-04 - accuracy: 1.0000\n",
            "Epoch 5/50\n",
            "259/259 [==============================] - 0s 2ms/step - loss: 9.3746e-05 - accuracy: 1.0000\n",
            "Epoch 6/50\n",
            "259/259 [==============================] - 1s 2ms/step - loss: 5.6167e-05 - accuracy: 1.0000\n",
            "Epoch 7/50\n",
            "259/259 [==============================] - 0s 2ms/step - loss: 3.7437e-05 - accuracy: 1.0000\n",
            "Epoch 8/50\n",
            "259/259 [==============================] - 1s 2ms/step - loss: 2.6895e-05 - accuracy: 1.0000\n",
            "Epoch 9/50\n",
            "259/259 [==============================] - 1s 2ms/step - loss: 1.8866e-05 - accuracy: 1.0000\n",
            "Epoch 10/50\n",
            "259/259 [==============================] - 1s 2ms/step - loss: 1.4708e-05 - accuracy: 1.0000\n",
            "Epoch 11/50\n",
            "259/259 [==============================] - 1s 2ms/step - loss: 1.1152e-05 - accuracy: 1.0000\n",
            "Epoch 12/50\n",
            "259/259 [==============================] - 1s 2ms/step - loss: 8.8361e-06 - accuracy: 1.0000\n",
            "Epoch 13/50\n",
            "259/259 [==============================] - 1s 2ms/step - loss: 6.8629e-06 - accuracy: 1.0000\n",
            "Epoch 14/50\n",
            "259/259 [==============================] - 1s 2ms/step - loss: 5.6049e-06 - accuracy: 1.0000\n",
            "Epoch 15/50\n",
            "259/259 [==============================] - 1s 2ms/step - loss: 4.4910e-06 - accuracy: 1.0000\n",
            "Epoch 16/50\n",
            "259/259 [==============================] - 1s 2ms/step - loss: 3.5884e-06 - accuracy: 1.0000\n",
            "Epoch 17/50\n",
            "259/259 [==============================] - 1s 2ms/step - loss: 3.0398e-06 - accuracy: 1.0000\n",
            "Epoch 18/50\n",
            "259/259 [==============================] - 0s 2ms/step - loss: 2.5118e-06 - accuracy: 1.0000\n",
            "Epoch 19/50\n",
            "259/259 [==============================] - 1s 2ms/step - loss: 2.0683e-06 - accuracy: 1.0000\n",
            "Epoch 20/50\n",
            "259/259 [==============================] - 0s 2ms/step - loss: 1.7218e-06 - accuracy: 1.0000\n",
            "Epoch 21/50\n",
            "259/259 [==============================] - 1s 2ms/step - loss: 1.4553e-06 - accuracy: 1.0000\n",
            "Epoch 22/50\n",
            "259/259 [==============================] - 0s 2ms/step - loss: 1.2485e-06 - accuracy: 1.0000\n",
            "Epoch 23/50\n",
            "259/259 [==============================] - 1s 2ms/step - loss: 1.0666e-06 - accuracy: 1.0000\n",
            "Epoch 24/50\n",
            "259/259 [==============================] - 1s 2ms/step - loss: 8.8244e-07 - accuracy: 1.0000\n",
            "Epoch 25/50\n",
            "259/259 [==============================] - 1s 2ms/step - loss: 7.6461e-07 - accuracy: 1.0000\n",
            "Epoch 26/50\n",
            "259/259 [==============================] - 0s 2ms/step - loss: 6.2921e-07 - accuracy: 1.0000\n",
            "Epoch 27/50\n",
            "259/259 [==============================] - 1s 2ms/step - loss: 5.5404e-07 - accuracy: 1.0000\n",
            "Epoch 28/50\n",
            "259/259 [==============================] - 0s 2ms/step - loss: 4.4705e-07 - accuracy: 1.0000\n",
            "Epoch 29/50\n",
            "259/259 [==============================] - 1s 2ms/step - loss: 3.8908e-07 - accuracy: 1.0000\n",
            "Epoch 30/50\n",
            "259/259 [==============================] - 1s 2ms/step - loss: 3.3890e-07 - accuracy: 1.0000\n",
            "Epoch 31/50\n",
            "259/259 [==============================] - 1s 2ms/step - loss: 2.7839e-07 - accuracy: 1.0000\n",
            "Epoch 32/50\n",
            "259/259 [==============================] - 1s 2ms/step - loss: 2.4163e-07 - accuracy: 1.0000\n",
            "Epoch 33/50\n",
            "259/259 [==============================] - 1s 2ms/step - loss: 2.0823e-07 - accuracy: 1.0000\n",
            "Epoch 34/50\n",
            "259/259 [==============================] - 0s 2ms/step - loss: 1.8176e-07 - accuracy: 1.0000\n",
            "Epoch 35/50\n",
            "259/259 [==============================] - 0s 2ms/step - loss: 1.5536e-07 - accuracy: 1.0000\n",
            "Epoch 36/50\n",
            "259/259 [==============================] - 1s 2ms/step - loss: 1.3290e-07 - accuracy: 1.0000\n",
            "Epoch 37/50\n",
            "259/259 [==============================] - 0s 2ms/step - loss: 1.1054e-07 - accuracy: 1.0000\n",
            "Epoch 38/50\n",
            "259/259 [==============================] - 1s 2ms/step - loss: 9.6721e-08 - accuracy: 1.0000\n",
            "Epoch 39/50\n",
            "259/259 [==============================] - 1s 2ms/step - loss: 8.3044e-08 - accuracy: 1.0000\n",
            "Epoch 40/50\n",
            "259/259 [==============================] - 0s 2ms/step - loss: 7.3315e-08 - accuracy: 1.0000\n",
            "Epoch 41/50\n",
            "259/259 [==============================] - 1s 2ms/step - loss: 6.1559e-08 - accuracy: 1.0000\n",
            "Epoch 42/50\n",
            "259/259 [==============================] - 0s 2ms/step - loss: 5.4558e-08 - accuracy: 1.0000\n",
            "Epoch 43/50\n",
            "259/259 [==============================] - 1s 2ms/step - loss: 4.6558e-08 - accuracy: 1.0000\n",
            "Epoch 44/50\n",
            "259/259 [==============================] - 1s 2ms/step - loss: 4.1508e-08 - accuracy: 1.0000\n",
            "Epoch 45/50\n",
            "259/259 [==============================] - 1s 2ms/step - loss: 3.7258e-08 - accuracy: 1.0000\n",
            "Epoch 46/50\n",
            "259/259 [==============================] - 1s 2ms/step - loss: 3.0806e-08 - accuracy: 1.0000\n",
            "Epoch 47/50\n",
            "259/259 [==============================] - 1s 2ms/step - loss: 2.6827e-08 - accuracy: 1.0000\n",
            "Epoch 48/50\n",
            "259/259 [==============================] - 1s 2ms/step - loss: 2.4623e-08 - accuracy: 1.0000\n",
            "Epoch 49/50\n",
            "259/259 [==============================] - 1s 2ms/step - loss: 2.1094e-08 - accuracy: 1.0000\n",
            "Epoch 50/50\n",
            "259/259 [==============================] - 1s 2ms/step - loss: 1.9421e-08 - accuracy: 1.0000\n"
          ],
          "name": "stdout"
        },
        {
          "output_type": "execute_result",
          "data": {
            "text/plain": [
              "<keras.callbacks.History at 0x7feac6e2fed0>"
            ]
          },
          "metadata": {
            "tags": []
          },
          "execution_count": 60
        }
      ]
    },
    {
      "cell_type": "code",
      "metadata": {
        "id": "JRuEuAc1SUsP"
      },
      "source": [
        "# Rede Neural utilizando Scikit-Learn\n",
        "modelo = Sequential()\n",
        "modelo.add(Dense( 4, input_dim = (39), kernel_initializer='normal', activation = 'relu' ) )\n",
        "modelo.add(Dense( 1, kernel_initializer='normal', activation='linear' ) )\n",
        "\n",
        "otimizador = Adam()\n",
        "\n",
        "modelo.compile( loss = 'mean_squared_error', optimizer = otimizador, metrics=['acc'] )"
      ],
      "id": "JRuEuAc1SUsP",
      "execution_count": null,
      "outputs": []
    },
    {
      "cell_type": "code",
      "metadata": {
        "colab": {
          "base_uri": "https://localhost:8080/"
        },
        "id": "1hFmzkCZXeZ9",
        "outputId": "c1fe7099-b5fe-478d-be76-e6936676d298"
      },
      "source": [
        "historico = modelo.fit(X_train, y_train, epochs=50, batch_size=280, validation_data=(X_test, y_test), verbose=1)"
      ],
      "id": "1hFmzkCZXeZ9",
      "execution_count": null,
      "outputs": [
        {
          "output_type": "stream",
          "text": [
            "Epoch 1/50\n",
            "30/30 [==============================] - 1s 19ms/step - loss: 0.4829 - acc: 0.5036 - val_loss: 0.4382 - val_acc: 0.4981\n",
            "Epoch 2/50\n",
            "30/30 [==============================] - 0s 3ms/step - loss: 0.4202 - acc: 0.4933 - val_loss: 0.3481 - val_acc: 0.4981\n",
            "Epoch 3/50\n",
            "30/30 [==============================] - 0s 3ms/step - loss: 0.3244 - acc: 0.4987 - val_loss: 0.2623 - val_acc: 0.4981\n",
            "Epoch 4/50\n",
            "30/30 [==============================] - 0s 3ms/step - loss: 0.2408 - acc: 0.5100 - val_loss: 0.2018 - val_acc: 0.6222\n",
            "Epoch 5/50\n",
            "30/30 [==============================] - 0s 4ms/step - loss: 0.1876 - acc: 0.7685 - val_loss: 0.1531 - val_acc: 0.8686\n",
            "Epoch 6/50\n",
            "30/30 [==============================] - 0s 3ms/step - loss: 0.1450 - acc: 0.8543 - val_loss: 0.1210 - val_acc: 0.8527\n",
            "Epoch 7/50\n",
            "30/30 [==============================] - 0s 2ms/step - loss: 0.1180 - acc: 0.8520 - val_loss: 0.1002 - val_acc: 0.8874\n",
            "Epoch 8/50\n",
            "30/30 [==============================] - 0s 3ms/step - loss: 0.0976 - acc: 0.8794 - val_loss: 0.0838 - val_acc: 0.9174\n",
            "Epoch 9/50\n",
            "30/30 [==============================] - 0s 2ms/step - loss: 0.0818 - acc: 0.9113 - val_loss: 0.0689 - val_acc: 0.9498\n",
            "Epoch 10/50\n",
            "30/30 [==============================] - 0s 2ms/step - loss: 0.0660 - acc: 0.9531 - val_loss: 0.0549 - val_acc: 0.9845\n",
            "Epoch 11/50\n",
            "30/30 [==============================] - 0s 4ms/step - loss: 0.0520 - acc: 0.9853 - val_loss: 0.0414 - val_acc: 0.9957\n",
            "Epoch 12/50\n",
            "30/30 [==============================] - 0s 3ms/step - loss: 0.0386 - acc: 0.9987 - val_loss: 0.0300 - val_acc: 1.0000\n",
            "Epoch 13/50\n",
            "30/30 [==============================] - 0s 3ms/step - loss: 0.0280 - acc: 1.0000 - val_loss: 0.0206 - val_acc: 1.0000\n",
            "Epoch 14/50\n",
            "30/30 [==============================] - 0s 3ms/step - loss: 0.0192 - acc: 1.0000 - val_loss: 0.0134 - val_acc: 1.0000\n",
            "Epoch 15/50\n",
            "30/30 [==============================] - 0s 4ms/step - loss: 0.0120 - acc: 1.0000 - val_loss: 0.0082 - val_acc: 1.0000\n",
            "Epoch 16/50\n",
            "30/30 [==============================] - 0s 3ms/step - loss: 0.0074 - acc: 1.0000 - val_loss: 0.0048 - val_acc: 1.0000\n",
            "Epoch 17/50\n",
            "30/30 [==============================] - 0s 2ms/step - loss: 0.0042 - acc: 1.0000 - val_loss: 0.0027 - val_acc: 1.0000\n",
            "Epoch 18/50\n",
            "30/30 [==============================] - 0s 3ms/step - loss: 0.0024 - acc: 1.0000 - val_loss: 0.0015 - val_acc: 1.0000\n",
            "Epoch 19/50\n",
            "30/30 [==============================] - 0s 4ms/step - loss: 0.0013 - acc: 1.0000 - val_loss: 7.9777e-04 - val_acc: 1.0000\n",
            "Epoch 20/50\n",
            "30/30 [==============================] - 0s 3ms/step - loss: 6.8472e-04 - acc: 1.0000 - val_loss: 4.3366e-04 - val_acc: 1.0000\n",
            "Epoch 21/50\n",
            "30/30 [==============================] - 0s 3ms/step - loss: 3.7330e-04 - acc: 1.0000 - val_loss: 2.5507e-04 - val_acc: 1.0000\n",
            "Epoch 22/50\n",
            "30/30 [==============================] - 0s 2ms/step - loss: 2.1335e-04 - acc: 1.0000 - val_loss: 1.6522e-04 - val_acc: 1.0000\n",
            "Epoch 23/50\n",
            "30/30 [==============================] - 0s 3ms/step - loss: 1.3775e-04 - acc: 1.0000 - val_loss: 1.1929e-04 - val_acc: 1.0000\n",
            "Epoch 24/50\n",
            "30/30 [==============================] - 0s 3ms/step - loss: 9.8384e-05 - acc: 1.0000 - val_loss: 9.4101e-05 - val_acc: 1.0000\n",
            "Epoch 25/50\n",
            "30/30 [==============================] - 0s 2ms/step - loss: 7.9357e-05 - acc: 1.0000 - val_loss: 7.8056e-05 - val_acc: 1.0000\n",
            "Epoch 26/50\n",
            "30/30 [==============================] - 0s 3ms/step - loss: 6.4361e-05 - acc: 1.0000 - val_loss: 6.6188e-05 - val_acc: 1.0000\n",
            "Epoch 27/50\n",
            "30/30 [==============================] - 0s 3ms/step - loss: 6.0678e-05 - acc: 1.0000 - val_loss: 5.6685e-05 - val_acc: 1.0000\n",
            "Epoch 28/50\n",
            "30/30 [==============================] - 0s 3ms/step - loss: 5.2204e-05 - acc: 1.0000 - val_loss: 4.9033e-05 - val_acc: 1.0000\n",
            "Epoch 29/50\n",
            "30/30 [==============================] - 0s 4ms/step - loss: 4.4064e-05 - acc: 1.0000 - val_loss: 4.2392e-05 - val_acc: 1.0000\n",
            "Epoch 30/50\n",
            "30/30 [==============================] - 0s 4ms/step - loss: 3.5652e-05 - acc: 1.0000 - val_loss: 3.6719e-05 - val_acc: 1.0000\n",
            "Epoch 31/50\n",
            "30/30 [==============================] - 0s 3ms/step - loss: 3.2932e-05 - acc: 1.0000 - val_loss: 3.1962e-05 - val_acc: 1.0000\n",
            "Epoch 32/50\n",
            "30/30 [==============================] - 0s 3ms/step - loss: 2.5524e-05 - acc: 1.0000 - val_loss: 2.7458e-05 - val_acc: 1.0000\n",
            "Epoch 33/50\n",
            "30/30 [==============================] - 0s 4ms/step - loss: 2.3209e-05 - acc: 1.0000 - val_loss: 2.3712e-05 - val_acc: 1.0000\n",
            "Epoch 34/50\n",
            "30/30 [==============================] - 0s 3ms/step - loss: 1.7503e-05 - acc: 1.0000 - val_loss: 2.0606e-05 - val_acc: 1.0000\n",
            "Epoch 35/50\n",
            "30/30 [==============================] - 0s 3ms/step - loss: 1.7720e-05 - acc: 1.0000 - val_loss: 1.8935e-05 - val_acc: 1.0000\n",
            "Epoch 36/50\n",
            "30/30 [==============================] - 0s 3ms/step - loss: 1.3803e-05 - acc: 1.0000 - val_loss: 1.5089e-05 - val_acc: 1.0000\n",
            "Epoch 37/50\n",
            "30/30 [==============================] - 0s 3ms/step - loss: 1.1582e-05 - acc: 1.0000 - val_loss: 1.3013e-05 - val_acc: 1.0000\n",
            "Epoch 38/50\n",
            "30/30 [==============================] - 0s 2ms/step - loss: 9.7485e-06 - acc: 1.0000 - val_loss: 1.1430e-05 - val_acc: 1.0000\n",
            "Epoch 39/50\n",
            "30/30 [==============================] - 0s 2ms/step - loss: 9.3270e-06 - acc: 1.0000 - val_loss: 9.6051e-06 - val_acc: 1.0000\n",
            "Epoch 40/50\n",
            "30/30 [==============================] - 0s 3ms/step - loss: 6.9038e-06 - acc: 1.0000 - val_loss: 8.4096e-06 - val_acc: 1.0000\n",
            "Epoch 41/50\n",
            "30/30 [==============================] - 0s 3ms/step - loss: 5.7040e-06 - acc: 1.0000 - val_loss: 7.2256e-06 - val_acc: 1.0000\n",
            "Epoch 42/50\n",
            "30/30 [==============================] - 0s 3ms/step - loss: 5.5313e-06 - acc: 1.0000 - val_loss: 6.2243e-06 - val_acc: 1.0000\n",
            "Epoch 43/50\n",
            "30/30 [==============================] - 0s 3ms/step - loss: 4.8845e-06 - acc: 1.0000 - val_loss: 5.4316e-06 - val_acc: 1.0000\n",
            "Epoch 44/50\n",
            "30/30 [==============================] - 0s 2ms/step - loss: 3.9307e-06 - acc: 1.0000 - val_loss: 4.7202e-06 - val_acc: 1.0000\n",
            "Epoch 45/50\n",
            "30/30 [==============================] - 0s 2ms/step - loss: 3.8003e-06 - acc: 1.0000 - val_loss: 4.1968e-06 - val_acc: 1.0000\n",
            "Epoch 46/50\n",
            "30/30 [==============================] - 0s 3ms/step - loss: 2.4985e-06 - acc: 1.0000 - val_loss: 3.6545e-06 - val_acc: 1.0000\n",
            "Epoch 47/50\n",
            "30/30 [==============================] - 0s 3ms/step - loss: 2.7494e-06 - acc: 1.0000 - val_loss: 3.2186e-06 - val_acc: 1.0000\n",
            "Epoch 48/50\n",
            "30/30 [==============================] - 0s 2ms/step - loss: 2.4107e-06 - acc: 1.0000 - val_loss: 2.8597e-06 - val_acc: 1.0000\n",
            "Epoch 49/50\n",
            "30/30 [==============================] - 0s 3ms/step - loss: 2.2307e-06 - acc: 1.0000 - val_loss: 2.5346e-06 - val_acc: 1.0000\n",
            "Epoch 50/50\n",
            "30/30 [==============================] - 0s 3ms/step - loss: 2.2163e-06 - acc: 1.0000 - val_loss: 2.2768e-06 - val_acc: 1.0000\n"
          ],
          "name": "stdout"
        }
      ]
    },
    {
      "cell_type": "code",
      "metadata": {
        "colab": {
          "base_uri": "https://localhost:8080/",
          "height": 442
        },
        "id": "a_3WNmhKZdMt",
        "outputId": "bb7b803d-375a-4039-88ae-4bede93d102b"
      },
      "source": [
        "# Demonstração de performance da Rede Neural\n",
        "acuracia_treino = historico.history['acc']\n",
        "acuracia_teste = historico.history['val_acc']\n",
        "\n",
        "epochs = range( 1, len(acuracia_treino )+1 )\n",
        " \n",
        "plt.plot( epochs, acuracia_treino, '-g', label='Acuracia Dados de Treino' )\n",
        "plt.plot( epochs, acuracia_teste, '-b', label='Acuracia Dados de Teste' )\n",
        "plt.legend()\n",
        "plt.xlabel( 'Epochs' )\n",
        "plt.ylabel( 'Acuracia' )\n",
        "plt.show()"
      ],
      "id": "a_3WNmhKZdMt",
      "execution_count": null,
      "outputs": [
        {
          "output_type": "display_data",
          "data": {
            "image/png": "[encoded data removed]",
            "text/plain": [
              "<Figure size 1008x504 with 1 Axes>"
            ]
          },
          "metadata": {
            "tags": [],
            "needs_background": "light"
          }
        }
      ]
    },
    {
      "cell_type": "markdown",
      "metadata": {
        "id": "1f749647"
      },
      "source": [
        "# 7.0 SALVANDO O CLASSIFICADOR"
      ],
      "id": "1f749647"
    },
    {
      "cell_type": "code",
      "metadata": {
        "id": "b753c1d4"
      },
      "source": [
        "with open('variaveismodelo.pkl', 'wb') as f:\n",
        "    pickle.dump([smote, onn, mms, random_forest], f)"
      ],
      "id": "b753c1d4",
      "execution_count": null,
      "outputs": []
    }
  ]
}